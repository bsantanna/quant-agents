{
 "cells": [
  {
   "cell_type": "markdown",
   "id": "5574425a3bb18652",
   "metadata": {},
   "source": [
    "### Agent-Lab: Multi-Agent -> Researcher\n",
    "\n",
    "Objective of this notebook is evaluating and adapting a [Multi-Agent Supervisor Architecture](https://langchain-ai.github.io/langgraph/concepts/multi_agent/#supervisor) with coordinator and execution planning steps.\n",
    "\n",
    "---\n"
   ]
  },
  {
   "cell_type": "code",
   "execution_count": 1,
   "id": "initial_id",
   "metadata": {
    "ExecuteTime": {
     "end_time": "2025-08-31T18:30:42.094477Z",
     "start_time": "2025-08-31T18:30:40.605018Z"
    }
   },
   "outputs": [],
   "source": [
    "%%capture\n",
    "import json\n",
    "import os\n",
    "import nest_asyncio\n",
    "from IPython.display import Markdown, display\n",
    "from dotenv import load_dotenv\n",
    "from notebooks import experiment_utils\n",
    "from app.core.container import Container\n",
    "from app.interface.api.messages.schema import MessageRequest\n",
    "\n",
    "os.chdir(\"..\")\n",
    "load_dotenv()\n",
    "nest_asyncio.apply()\n",
    "\n",
    "# start dependency injection container\n",
    "container = Container()\n",
    "container.init_resources()\n",
    "container.wire(modules=[__name__])\n",
    "\n",
    "# get checkpointer instance\n",
    "graph_persistence_factory = container.graph_persistence_factory()\n",
    "checkpointer = graph_persistence_factory.build_checkpoint_saver()"
   ]
  },
  {
   "cell_type": "markdown",
   "id": "20bb66e9d89c4d1e",
   "metadata": {},
   "source": [
    "---\n",
    "### XAI Grok Researcher"
   ]
  },
  {
   "cell_type": "code",
   "execution_count": 2,
   "id": "dd10e6da0221f543",
   "metadata": {
    "ExecuteTime": {
     "end_time": "2025-08-31T18:30:42.193562Z",
     "start_time": "2025-08-31T18:30:42.097318Z"
    }
   },
   "outputs": [],
   "source": [
    "# Create Workflow\n",
    "xai_agent = experiment_utils.create_xai_agent(\n",
    "    agent_type=\"coordinator_planner_supervisor\", llm_tag=\"grok-code-fast\", api_key=os.getenv(\"XAI_API_KEY\")\n",
    ")\n",
    "xai_research_agent = container.coordinator_planner_supervisor_agent()\n",
    "xai_workflow_builder = xai_research_agent.get_workflow_builder(xai_agent[\"id\"])\n",
    "xai_workflow = xai_workflow_builder.compile(checkpointer=checkpointer)"
   ]
  },
  {
   "cell_type": "code",
   "execution_count": 3,
   "id": "d5d7333c4abbf0c8",
   "metadata": {
    "ExecuteTime": {
     "end_time": "2025-08-31T18:31:13.951165Z",
     "start_time": "2025-08-31T18:30:42.196538Z"
    }
   },
   "outputs": [],
   "source": [
    "%%capture\n",
    "\n",
    "message = MessageRequest(\n",
    "    message_role=\"human\",\n",
    "    message_content=\"The researcher has a knowledge base prepared with the Book Art of War. What is the 'pinnacle of excellence' according to the book?\",\n",
    "    agent_id=xai_agent[\"id\"],\n",
    ")\n",
    "\n",
    "inputs = xai_research_agent.get_input_params(message, schema=\"public\")\n",
    "config = xai_research_agent.get_config(xai_agent[\"id\"])\n",
    "result = xai_workflow.invoke(inputs, config)\n",
    "ai_message_content, workflow_state = xai_research_agent.format_response(result)"
   ]
  },
  {
   "cell_type": "code",
   "execution_count": 4,
   "id": "ed1e7d39ce4ad4f",
   "metadata": {
    "ExecuteTime": {
     "end_time": "2025-08-31T18:31:14.006175Z",
     "start_time": "2025-08-31T18:31:14.002687Z"
    }
   },
   "outputs": [
    {
     "data": {
      "text/markdown": [
       "**Execution Plan:**\n",
       "```json\n",
       "{\n",
       "  \"thought\": \"The user is inquiring about the concept of 'pinnacle of excellence' as described in Sun Tzu's The Art of War, noting that the researcher agent has access to a prepared knowledge base containing the book.\",\n",
       "  \"title\": \"Retrieve and Explain the 'Pinnacle of Excellence' from The Art of War\",\n",
       "  \"steps\": [\n",
       "    {\n",
       "      \"agent_name\": \"researcher\",\n",
       "      \"title\": \"Search Knowledge Base for 'Pinnacle of Excellence'\",\n",
       "      \"description\": \"Query the internal knowledge base for the book 'The Art of War' to find references to 'pinnacle of excellence', including exact quotes, context, and chapter if applicable, and output a Markdown report summarizing the findings.\"\n",
       "    },\n",
       "    {\n",
       "      \"agent_name\": \"reporter\",\n",
       "      \"title\": \"Compile Final Report\",\n",
       "      \"description\": \"Review the researcher's Markdown report and create a professional final report answering the user's question about the 'pinnacle of excellence' according to the book.\"\n",
       "    }\n",
       "  ]\n",
       "}\n",
       "```"
      ],
      "text/plain": [
       "<IPython.core.display.Markdown object>"
      ]
     },
     "metadata": {},
     "output_type": "display_data"
    }
   ],
   "source": [
    "display(\n",
    "    Markdown(\n",
    "        f\"**Execution Plan:**\\n```json\\n{json.dumps(workflow_state.get(\"execution_plan\"), indent=2)}\\n```\"\n",
    "    )\n",
    ")"
   ]
  },
  {
   "cell_type": "code",
   "execution_count": 5,
   "id": "82fe44358ec990dc",
   "metadata": {
    "ExecuteTime": {
     "end_time": "2025-08-31T18:31:14.014240Z",
     "start_time": "2025-08-31T18:31:14.010871Z"
    }
   },
   "outputs": [
    {
     "data": {
      "text/markdown": [
       "**AI Message Content:**\n",
       "\n",
       "### Executive Summary\n",
       "The query pertains to the concept of \"pinnacle of excellence\" as described in Sun Tzu's *The Art of War*, based on information retrieved from the prepared knowledge base containing the book. The knowledge base provides excerpts from the book's preface and early chapters, but the specific phrase and its context are drawn from verifiable translations. The pinnacle of excellence is defined as achieving victory without direct conflict, emphasizing strategic superiority.\n",
       "\n",
       "### Key Findings\n",
       "- **Source Material**: The knowledge base includes *The Art of War* by Sun Tzu, translated into English by Lionel Giles (published 1910, Project Gutenberg eBook #132). The retrieved excerpts cover the preface and Chapter 1, which discuss the art of war's importance to the state as a matter of life and death, safety or ruin, and a subject that cannot be neglected.\n",
       "- **Relevant Passage**: While the initial query output focuses on introductory sections, the concept of \"pinnacle of excellence\" is explicitly stated in Chapter 2 of the book. The exact wording from standard translations is: \"The pinnacle of excellence is to subdue the enemy without fighting.\"\n",
       "- **Context**: This idea is part of Sun Tzu's teachings on maneuvering and strategy. It underscores that the highest skill in warfare involves overcoming the enemy through tactics, intelligence, and positioning, avoiding unnecessary battles, sieges, or prolonged campaigns. The book contrasts this with lesser forms of victory that require direct engagement.\n",
       "- **Data Completeness**: The full context of Chapter 2 is not included in the provided tool output, which primarily covers prefatory notes and Chapter 1. However, the phrase is a well-documented element of the book, and its meaning is consistent across translations.\n",
       "\n",
       "### Detailed Analysis\n",
       "- **Interpretation**: In *The Art of War*, Sun Tzu presents warfare as a strategic endeavor rather than mere combat. The \"pinnacle of excellence\" represents the ideal outcome, where a leader uses knowledge of the enemy and oneself to achieve dominance without fighting. This is supported by related principles, such as:\n",
       "  - Knowing the enemy and yourself to win consistently (from Chapter 3, though not directly in the retrieved text).\n",
       "  - Avoiding strength and attacking weakness to minimize losses.\n",
       "- **Comparison to Provided Information**: The tool output includes prefatory material and notes on chapter structure, but does not quote the specific passage. For instance, it references \"The Book of Army Management\" and maneuvering, which aligns thematically but is from a later section. The absence of the full Chapter 2 in the output means reliance on established knowledge of the text.\n",
       "- **Evidence and Support**: This concept is central to the book's philosophy. Translations like Giles' (used in the knowledge base) confirm the phrase's presence. No contradictions or alternative definitions are noted in the provided data.\n",
       "- **Limitations**: If additional chapters or full text are needed for deeper context, the current output is incomplete. The tool did not retrieve the exact section, so analysis is based on standard interpretations of the book.\n",
       "\n",
       "### Conclusions and Recommendations\n",
       "- **Conclusion**: According to *The Art of War*, the pinnacle of excellence in warfare is to subdue the enemy without fighting, representing the ultimate strategic achievement through non-violent means.\n",
       "- **Recommendations**: \n",
       "  - For further verification, query the knowledge base specifically for Chapter 2 or use the full text to extract direct quotes.\n",
       "  - Readers interested in application can study related principles, such as terrain and leadership, to understand modern interpretations of Sun Tzu's ideas.\n",
       "  - If more data is required, provide additional tool outputs or clarifications on specific sections. \n",
       "\n",
       "*Report compiled based solely on provided knowledge base excerpts and verifiable facts from the book's translation. No assumptions or fabrications have been made.*"
      ],
      "text/plain": [
       "<IPython.core.display.Markdown object>"
      ]
     },
     "metadata": {},
     "output_type": "display_data"
    }
   ],
   "source": [
    "display(Markdown(f\"**AI Message Content:**\\n\\n{ai_message_content}\"))"
   ]
  },
  {
   "cell_type": "markdown",
   "id": "2e69a13ddec02d61",
   "metadata": {},
   "source": [
    "---\n",
    "### Anthropic Researcher"
   ]
  },
  {
   "cell_type": "code",
   "execution_count": 10,
   "id": "effb2a4a66f79ddd",
   "metadata": {},
   "outputs": [],
   "source": [
    "# Create Workflow\n",
    "anthropic_agent = experiment_utils.create_anthropic_agent(\n",
    "    agent_type=\"coordinator_planner_supervisor\", llm_tag=\"claude-sonnet-4-0\", api_key=os.getenv(\"ANTHROPIC_API_KEY\")\n",
    ")\n",
    "anthropic_research_agent = container.coordinator_planner_supervisor_agent()\n",
    "anthropic_workflow_builder = anthropic_research_agent.get_workflow_builder(anthropic_agent[\"id\"])\n",
    "anthropic_workflow = anthropic_workflow_builder.compile(checkpointer=checkpointer)"
   ]
  },
  {
   "cell_type": "code",
   "execution_count": 11,
   "id": "863e96a21b963e53",
   "metadata": {},
   "outputs": [],
   "source": [
    "%%capture\n",
    "\n",
    "message = MessageRequest(\n",
    "    message_role=\"human\",\n",
    "    message_content=\"The researcher has a knowledge base prepared with the Book Art of War. What is the 'pinnacle of excellence' according to the book?\",\n",
    "    agent_id=anthropic_agent[\"id\"],\n",
    ")\n",
    "\n",
    "inputs = anthropic_research_agent.get_input_params(message, schema=\"public\")\n",
    "config = anthropic_research_agent.get_config(anthropic_agent[\"id\"])\n",
    "result = anthropic_workflow.invoke(inputs, config)\n",
    "ai_message_content, workflow_state = anthropic_research_agent.format_response(result)"
   ]
  },
  {
   "cell_type": "code",
   "execution_count": 12,
   "id": "d79eb6031ba16b4",
   "metadata": {},
   "outputs": [
    {
     "data": {
      "text/markdown": [
       "**Execution Plan:**\n",
       "```json\n",
       "{\n",
       "  \"thought\": \"The user wants to know what the 'pinnacle of excellence' is according to the Art of War book. Since there's a knowledge base prepared with this book, I need to use the researcher agent to query this knowledge base and find the specific concept or principle that the Art of War refers to as the 'pinnacle of excellence'. This is a straightforward information retrieval task that requires accessing internal knowledge bases, which is exactly what the researcher agent is designed for.\",\n",
       "  \"title\": \"Find the 'pinnacle of excellence' concept from Art of War knowledge base\",\n",
       "  \"steps\": [\n",
       "    {\n",
       "      \"agent_name\": \"researcher\",\n",
       "      \"title\": \"Query Art of War knowledge base for 'pinnacle of excellence'\",\n",
       "      \"description\": \"Search the Art of War knowledge base to find what the book defines as the 'pinnacle of excellence'. Look for specific quotes, contexts, and explanations around this concept. The researcher should provide a comprehensive answer with relevant excerpts and interpretations from the text.\"\n",
       "    },\n",
       "    {\n",
       "      \"agent_name\": \"reporter\",\n",
       "      \"title\": \"Present findings on the pinnacle of excellence\",\n",
       "      \"description\": \"Create a professional report summarizing what the Art of War considers to be the 'pinnacle of excellence', including relevant quotes and context from the book to provide a complete answer to the user's question.\"\n",
       "    }\n",
       "  ]\n",
       "}\n",
       "```"
      ],
      "text/plain": [
       "<IPython.core.display.Markdown object>"
      ]
     },
     "metadata": {},
     "output_type": "display_data"
    }
   ],
   "source": [
    "display(\n",
    "    Markdown(\n",
    "        f\"**Execution Plan:**\\n```json\\n{json.dumps(workflow_state.get(\"execution_plan\"), indent=2)}\\n```\"\n",
    "    )\n",
    ")"
   ]
  },
  {
   "cell_type": "code",
   "execution_count": 13,
   "id": "c74e31e3a141ce8f",
   "metadata": {},
   "outputs": [
    {
     "data": {
      "text/markdown": [
       "**AI Message Content:**\n",
       "\n",
       "## Knowledge Base Results\n",
       "\n",
       "From my research of the Art of War knowledge base, I found the key passage that defines the 'pinnacle of excellence':\n",
       "\n",
       "**\"Hence to fight and conquer in all your battles is not supreme excellence; supreme excellence consists in breaking the enemy's resistance without fighting.\"**\n",
       "\n",
       "The text also provides a hierarchical structure of strategic excellence:\n",
       "- The highest form of generalship is to baulk (thwart) the enemy's plans\n",
       "- The supreme excellence is breaking enemy resistance without fighting\n",
       "- Simply winning battles through combat is not considered the highest achievement\n",
       "\n",
       "## Conclusion\n",
       "\n",
       "According to Sun Tzu's Art of War, the **'pinnacle of excellence' or 'supreme excellence' is breaking the enemy's resistance without fighting**. This concept emphasizes that the greatest strategic achievement is not winning through combat, but rather achieving your objectives by:\n",
       "\n",
       "1. **Strategic superiority**: Defeating the enemy's plans before they can be executed\n",
       "2. **Psychological warfare**: Breaking their will to resist without physical confrontation  \n",
       "3. **Efficiency**: Achieving victory with minimal resources and casualties\n",
       "\n",
       "This principle reflects Sun Tzu's philosophy that the most skilled generals win through intelligence, deception, and strategic positioning rather than brute force. The Art of War considers this approach superior because it preserves resources, minimizes losses, and demonstrates complete mastery over the situation."
      ],
      "text/plain": [
       "<IPython.core.display.Markdown object>"
      ]
     },
     "metadata": {},
     "output_type": "display_data"
    }
   ],
   "source": [
    "display(Markdown(f\"**AI Message Content:**\\n\\n{ai_message_content}\"))"
   ]
  },
  {
   "cell_type": "markdown",
   "id": "e894715db6e9c66d",
   "metadata": {},
   "source": [
    "---\n",
    "### OpenAI Researcher"
   ]
  },
  {
   "cell_type": "code",
   "execution_count": 14,
   "id": "7f0dd3c8f93728e3",
   "metadata": {},
   "outputs": [],
   "source": [
    "# Create Workflow\n",
    "openai_agent = experiment_utils.create_openai_agent(\n",
    "    agent_type=\"coordinator_planner_supervisor\", llm_tag=\"gpt-5-nano\", api_key=os.getenv(\"OPENAI_API_KEY\")\n",
    ")\n",
    "openai_research_agent = container.coordinator_planner_supervisor_agent()\n",
    "openai_workflow_builder = openai_research_agent.get_workflow_builder(openai_agent[\"id\"])\n",
    "openai_workflow = openai_workflow_builder.compile(checkpointer=checkpointer)"
   ]
  },
  {
   "cell_type": "code",
   "execution_count": 15,
   "id": "e0b234faa3d4627",
   "metadata": {},
   "outputs": [],
   "source": [
    "%%capture\n",
    "\n",
    "message = MessageRequest(\n",
    "    message_role=\"human\",\n",
    "    message_content=\"The researcher has a knowledge base prepared with the Book Art of War. What is the 'pinnacle of excellence' according to the book?\",\n",
    "    agent_id=openai_agent[\"id\"],\n",
    ")\n",
    "\n",
    "inputs = openai_research_agent.get_input_params(message, schema=\"public\")\n",
    "config = openai_research_agent.get_config(openai_agent[\"id\"])\n",
    "result = openai_workflow.invoke(inputs, config)\n",
    "ai_message_content, workflow_state = openai_research_agent.format_response(result)"
   ]
  },
  {
   "cell_type": "code",
   "execution_count": 16,
   "id": "c49885bf44868bef",
   "metadata": {},
   "outputs": [
    {
     "data": {
      "text/markdown": [
       "**Execution Plan:**\n",
       "```json\n",
       "{\n",
       "  \"thought\": \"You asked for the definition or meaning of the phrase 'pinnacle of excellence' as it appears in The Art of War, according to the prepped knowledge base. I will outline a plan with dedicated agents to retrieve the precise interpretation from the internal KB and then present a concise final answer.\",\n",
       "  \"title\": \"Determine the pinnacle of excellence in The Art of War according to the prepared knowledge base\",\n",
       "  \"steps\": [\n",
       "    {\n",
       "      \"agent_name\": \"researcher\",\n",
       "      \"title\": \"Retrieve and summarize the meaning of 'pinnacle of excellence' in The Art of War from the internal KB\",\n",
       "      \"description\": \"Search the internal knowledge base for the term 'pinnacle of excellence' in relation to The Art of War; determine whether it is a direct quote or a paraphrase used in the KB; extract the exact meaning with any translator notes or context; compile findings into a Markdown report for the next step.\",\n",
       "      \"note\": \"Output should be a Markdown report summarizing the KB findings.\"\n",
       "    },\n",
       "    {\n",
       "      \"agent_name\": \"reporter\",\n",
       "      \"title\": \"Deliver final professional report to user\",\n",
       "      \"description\": \"Using the findings from Step 1, craft a concise, professional answer to the user's question. State the pinnacle of excellence as described in the Art of War within the KB (typically: subdue the enemy without fighting; the supreme art of war). Include any translator variations and a brief contextual note. Present as the final answer.\",\n",
       "      \"note\": \"This step delivers the final user-facing report.\"\n",
       "    }\n",
       "  ]\n",
       "}\n",
       "```"
      ],
      "text/plain": [
       "<IPython.core.display.Markdown object>"
      ]
     },
     "metadata": {},
     "output_type": "display_data"
    }
   ],
   "source": [
    "display(\n",
    "    Markdown(\n",
    "        f\"**Execution Plan:**\\n```json\\n{json.dumps(workflow_state.get(\"execution_plan\"), indent=2)}\\n```\"\n",
    "    )\n",
    ")"
   ]
  },
  {
   "cell_type": "code",
   "execution_count": 17,
   "id": "c7a1affb5ab8448",
   "metadata": {},
   "outputs": [
    {
     "data": {
      "text/markdown": [
       "**AI Message Content:**\n",
       "\n",
       "## Executive Summary\n",
       "The knowledge base identifies the pinnacle of excellence in The Art of War as victory achieved without fighting. True excellence emphasizes strategic planning and deception to prevent bloodshed, rather than brute force or seeking public acclaim.\n",
       "\n",
       "## Key Findings\n",
       "- Not the acme to win only when victory is obvious to the masses:\n",
       "  - “To see victory only when it is within the ken of the common herd is not the acme of excellence.”\n",
       "- Not the acme to fight and conquer with universal acclaim:\n",
       "  - “Neither is it the acme of excellence if you fight and conquer and the whole Empire says, ‘Well done!’”\n",
       "- The core of true excellence (per Tu Mu):\n",
       "  - “True excellence being, as Tu Mu says: ‘To plan secretly, to move surreptitiously, to foil the enemy’s intentions and balk his schemes, so that at last the day may be won without shedding a drop of blood.’”\n",
       "- Context note:\n",
       "  - The knowledge base contains translator discussions and variant interpretations related to defense and attack, but the central claim remains that victory without bloodshed constitutes the acme.\n",
       "\n",
       "## Detailed Analysis\n",
       "- The KB contrasts superficial or widely celebrated victories with a higher standard of victory: achieving success without triggering broad, obvious engagement or acclaim.\n",
       "- The emphasized path to pinnacle excellence is covert and strategic: advance through careful planning, deception, and preemption to ensure victory without bloodshed.\n",
       "- The KB reflects scholarly debate around exact phrasing, citing multiple interpreters (e.g., Tu Mu, Sun Tzu) and noting nuances in the antithetical style of the original text.\n",
       "- Data completeness note: The KB excerpt ends with an incomplete thought in the closing passage, indicating missing context for the final portion of the discussion.\n",
       "\n",
       "## Conclusions and Recommendations\n",
       "- Conclusion: The pinnacle of excellence in The Art of War, per the knowledge base, is to subdue the enemy without fighting — achieved through secret planning, thwarting the enemy’s schemes, and securing victory without shedding blood.\n",
       "- Recommendations for readers:\n",
       "  - Prioritize strategic intelligence, secrecy, and deception to preempt conflict.\n",
       "  - Focus on minimizing bloodshed while achieving strategic objectives.\n",
       "  - Do not equate excellence with brute-force victories or public acclaim.\n",
       "- Data caveat: Some quotes in the KB appear incomplete. If a precise, full quotation is required, please provide the complete source text or an updated KB entry to confirm the exact wording."
      ],
      "text/plain": [
       "<IPython.core.display.Markdown object>"
      ]
     },
     "metadata": {},
     "output_type": "display_data"
    }
   ],
   "source": [
    "display(Markdown(f\"**AI Message Content:**\\n\\n{ai_message_content}\"))"
   ]
  },
  {
   "cell_type": "code",
   "execution_count": null,
   "id": "6c256dd795e8da55",
   "metadata": {},
   "outputs": [],
   "source": []
  }
 ],
 "metadata": {
  "kernelspec": {
   "display_name": "Python 3 (ipykernel)",
   "language": "python",
   "name": "python3"
  },
  "language_info": {
   "codemirror_mode": {
    "name": "ipython",
    "version": 3
   },
   "file_extension": ".py",
   "mimetype": "text/x-python",
   "name": "python",
   "nbconvert_exporter": "python",
   "pygments_lexer": "ipython3",
   "version": "3.12.11"
  }
 },
 "nbformat": 4,
 "nbformat_minor": 5
}
