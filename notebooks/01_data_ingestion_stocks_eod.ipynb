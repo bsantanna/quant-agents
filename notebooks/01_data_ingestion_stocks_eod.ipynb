{
 "cells": [
  {
   "cell_type": "code",
   "id": "initial_id",
   "metadata": {
    "collapsed": true,
    "ExecuteTime": {
     "end_time": "2025-10-23T10:34:52.036638Z",
     "start_time": "2025-10-23T10:34:51.762350Z"
    }
   },
   "source": [
    "import os\n",
    "import requests\n",
    "import json\n",
    "import pandas as pd\n",
    "from datetime import datetime\n",
    "from dotenv import load_dotenv\n",
    "\n",
    "os.chdir(\"..\")\n",
    "load_dotenv()"
   ],
   "outputs": [
    {
     "data": {
      "text/plain": [
       "True"
      ]
     },
     "execution_count": 1,
     "metadata": {},
     "output_type": "execute_result"
    }
   ],
   "execution_count": 1
  },
  {
   "metadata": {
    "ExecuteTime": {
     "end_time": "2025-10-23T10:34:52.041818Z",
     "start_time": "2025-10-23T10:34:52.039327Z"
    }
   },
   "cell_type": "code",
   "source": [
    "def format_bulk_from_df(ticker: str, df: pd.DataFrame) -> bytes:\n",
    "    \"\"\"\n",
    "    Build an NDJSON bulk payload for `ticker` from `df`.\n",
    "    Expects DataFrame columns: 'open', 'close', 'high', 'low', 'volume' (adapt names as needed).\n",
    "    \"\"\"\n",
    "    today = datetime.now().strftime('%Y-%m-%d')\n",
    "    index_name = f\"quant-agents_stocks-eod_{today}\"\n",
    "    lines = []\n",
    "\n",
    "    for _, row in df.iterrows():\n",
    "\n",
    "        date_reference = row.get('timestamp')\n",
    "        open_ = row.get('open')\n",
    "        close = row.get('close')\n",
    "        high = row.get('high')\n",
    "        low = row.get('low')\n",
    "        volume = row.get('volume')\n",
    "\n",
    "        if open_ is None or close is None:\n",
    "            continue\n",
    "        id_str = f\"{ticker}_{str(date_reference)}\"\n",
    "\n",
    "        meta = {\"index\": {\"_index\": index_name, \"_id\": id_str}}\n",
    "\n",
    "        doc = {\n",
    "            \"key_ticker\": ticker,\n",
    "            \"date_reference\": date_reference,\n",
    "            \"val_open\": float(open_),\n",
    "            \"val_close\": float(close),\n",
    "            \"val_high\": float(high) if high is not None else None,\n",
    "            \"val_low\": float(low) if low is not None else None,\n",
    "            \"val_volume\": int(volume) if volume is not None else None,\n",
    "        }\n",
    "\n",
    "        lines.append(json.dumps(meta))\n",
    "        lines.append(json.dumps(doc))\n",
    "\n",
    "    return ((\"\\n\".join(lines)) + \"\\n\").encode(\"utf-8\")\n"
   ],
   "id": "49b48327d7a3dd98",
   "outputs": [],
   "execution_count": 2
  },
  {
   "metadata": {
    "ExecuteTime": {
     "end_time": "2025-10-23T10:35:04.855360Z",
     "start_time": "2025-10-23T10:35:04.625116Z"
    }
   },
   "cell_type": "code",
   "source": [
    "es_url = os.environ.get('ELASTICSEARCH_URL')\n",
    "es_api_key = os.environ.get('ELASTICSEARCH_API_KEY')\n",
    "symbol = \"IBM\"\n",
    "alpha_vantage_time_series_url = f\"https://www.alphavantage.co/query?function=TIME_SERIES_DAILY_ADJUSTED&symbol={symbol}&apikey=demo&datatype=csv\"\n",
    "\n",
    "ibm_ticker_daily_time_series = pd.read_csv(alpha_vantage_time_series_url)\n",
    "\n",
    "response = requests.post(\n",
    "    url=f\"{es_url}/_bulk\",\n",
    "    headers={\n",
    "        'Authorization': f'ApiKey {es_api_key}',\n",
    "        'Content-Type': 'application/x-ndjson'\n",
    "    },\n",
    "    data=format_bulk_from_df(symbol, ibm_ticker_daily_time_series)\n",
    ")\n",
    "print(response.json())"
   ],
   "id": "1e78bda7517b6cf2",
   "outputs": [
    {
     "name": "stdout",
     "output_type": "stream",
     "text": [
      "{'errors': False, 'took': 0, 'items': [{'index': {'_index': 'quant-agents_stocks-eod_2025-10-23', '_id': 'IBM_2025-10-22', '_version': 2, 'result': 'updated', '_shards': {'total': 2, 'successful': 1, 'failed': 0}, '_seq_no': 100, '_primary_term': 1, 'status': 200}}, {'index': {'_index': 'quant-agents_stocks-eod_2025-10-23', '_id': 'IBM_2025-10-21', '_version': 2, 'result': 'updated', '_shards': {'total': 2, 'successful': 1, 'failed': 0}, '_seq_no': 101, '_primary_term': 1, 'status': 200}}, {'index': {'_index': 'quant-agents_stocks-eod_2025-10-23', '_id': 'IBM_2025-10-20', '_version': 2, 'result': 'updated', '_shards': {'total': 2, 'successful': 1, 'failed': 0}, '_seq_no': 102, '_primary_term': 1, 'status': 200}}, {'index': {'_index': 'quant-agents_stocks-eod_2025-10-23', '_id': 'IBM_2025-10-17', '_version': 2, 'result': 'updated', '_shards': {'total': 2, 'successful': 1, 'failed': 0}, '_seq_no': 103, '_primary_term': 1, 'status': 200}}, {'index': {'_index': 'quant-agents_stocks-eod_2025-10-23', '_id': 'IBM_2025-10-16', '_version': 2, 'result': 'updated', '_shards': {'total': 2, 'successful': 1, 'failed': 0}, '_seq_no': 104, '_primary_term': 1, 'status': 200}}, {'index': {'_index': 'quant-agents_stocks-eod_2025-10-23', '_id': 'IBM_2025-10-15', '_version': 2, 'result': 'updated', '_shards': {'total': 2, 'successful': 1, 'failed': 0}, '_seq_no': 105, '_primary_term': 1, 'status': 200}}, {'index': {'_index': 'quant-agents_stocks-eod_2025-10-23', '_id': 'IBM_2025-10-14', '_version': 2, 'result': 'updated', '_shards': {'total': 2, 'successful': 1, 'failed': 0}, '_seq_no': 106, '_primary_term': 1, 'status': 200}}, {'index': {'_index': 'quant-agents_stocks-eod_2025-10-23', '_id': 'IBM_2025-10-13', '_version': 2, 'result': 'updated', '_shards': {'total': 2, 'successful': 1, 'failed': 0}, '_seq_no': 107, '_primary_term': 1, 'status': 200}}, {'index': {'_index': 'quant-agents_stocks-eod_2025-10-23', '_id': 'IBM_2025-10-10', '_version': 2, 'result': 'updated', '_shards': {'total': 2, 'successful': 1, 'failed': 0}, '_seq_no': 108, '_primary_term': 1, 'status': 200}}, {'index': {'_index': 'quant-agents_stocks-eod_2025-10-23', '_id': 'IBM_2025-10-09', '_version': 2, 'result': 'updated', '_shards': {'total': 2, 'successful': 1, 'failed': 0}, '_seq_no': 109, '_primary_term': 1, 'status': 200}}, {'index': {'_index': 'quant-agents_stocks-eod_2025-10-23', '_id': 'IBM_2025-10-08', '_version': 2, 'result': 'updated', '_shards': {'total': 2, 'successful': 1, 'failed': 0}, '_seq_no': 110, '_primary_term': 1, 'status': 200}}, {'index': {'_index': 'quant-agents_stocks-eod_2025-10-23', '_id': 'IBM_2025-10-07', '_version': 2, 'result': 'updated', '_shards': {'total': 2, 'successful': 1, 'failed': 0}, '_seq_no': 111, '_primary_term': 1, 'status': 200}}, {'index': {'_index': 'quant-agents_stocks-eod_2025-10-23', '_id': 'IBM_2025-10-06', '_version': 2, 'result': 'updated', '_shards': {'total': 2, 'successful': 1, 'failed': 0}, '_seq_no': 112, '_primary_term': 1, 'status': 200}}, {'index': {'_index': 'quant-agents_stocks-eod_2025-10-23', '_id': 'IBM_2025-10-03', '_version': 2, 'result': 'updated', '_shards': {'total': 2, 'successful': 1, 'failed': 0}, '_seq_no': 113, '_primary_term': 1, 'status': 200}}, {'index': {'_index': 'quant-agents_stocks-eod_2025-10-23', '_id': 'IBM_2025-10-02', '_version': 2, 'result': 'updated', '_shards': {'total': 2, 'successful': 1, 'failed': 0}, '_seq_no': 114, '_primary_term': 1, 'status': 200}}, {'index': {'_index': 'quant-agents_stocks-eod_2025-10-23', '_id': 'IBM_2025-10-01', '_version': 2, 'result': 'updated', '_shards': {'total': 2, 'successful': 1, 'failed': 0}, '_seq_no': 115, '_primary_term': 1, 'status': 200}}, {'index': {'_index': 'quant-agents_stocks-eod_2025-10-23', '_id': 'IBM_2025-09-30', '_version': 2, 'result': 'updated', '_shards': {'total': 2, 'successful': 1, 'failed': 0}, '_seq_no': 116, '_primary_term': 1, 'status': 200}}, {'index': {'_index': 'quant-agents_stocks-eod_2025-10-23', '_id': 'IBM_2025-09-29', '_version': 2, 'result': 'updated', '_shards': {'total': 2, 'successful': 1, 'failed': 0}, '_seq_no': 117, '_primary_term': 1, 'status': 200}}, {'index': {'_index': 'quant-agents_stocks-eod_2025-10-23', '_id': 'IBM_2025-09-26', '_version': 2, 'result': 'updated', '_shards': {'total': 2, 'successful': 1, 'failed': 0}, '_seq_no': 118, '_primary_term': 1, 'status': 200}}, {'index': {'_index': 'quant-agents_stocks-eod_2025-10-23', '_id': 'IBM_2025-09-25', '_version': 2, 'result': 'updated', '_shards': {'total': 2, 'successful': 1, 'failed': 0}, '_seq_no': 119, '_primary_term': 1, 'status': 200}}, {'index': {'_index': 'quant-agents_stocks-eod_2025-10-23', '_id': 'IBM_2025-09-24', '_version': 2, 'result': 'updated', '_shards': {'total': 2, 'successful': 1, 'failed': 0}, '_seq_no': 120, '_primary_term': 1, 'status': 200}}, {'index': {'_index': 'quant-agents_stocks-eod_2025-10-23', '_id': 'IBM_2025-09-23', '_version': 2, 'result': 'updated', '_shards': {'total': 2, 'successful': 1, 'failed': 0}, '_seq_no': 121, '_primary_term': 1, 'status': 200}}, {'index': {'_index': 'quant-agents_stocks-eod_2025-10-23', '_id': 'IBM_2025-09-22', '_version': 2, 'result': 'updated', '_shards': {'total': 2, 'successful': 1, 'failed': 0}, '_seq_no': 122, '_primary_term': 1, 'status': 200}}, {'index': {'_index': 'quant-agents_stocks-eod_2025-10-23', '_id': 'IBM_2025-09-19', '_version': 2, 'result': 'updated', '_shards': {'total': 2, 'successful': 1, 'failed': 0}, '_seq_no': 123, '_primary_term': 1, 'status': 200}}, {'index': {'_index': 'quant-agents_stocks-eod_2025-10-23', '_id': 'IBM_2025-09-18', '_version': 2, 'result': 'updated', '_shards': {'total': 2, 'successful': 1, 'failed': 0}, '_seq_no': 124, '_primary_term': 1, 'status': 200}}, {'index': {'_index': 'quant-agents_stocks-eod_2025-10-23', '_id': 'IBM_2025-09-17', '_version': 2, 'result': 'updated', '_shards': {'total': 2, 'successful': 1, 'failed': 0}, '_seq_no': 125, '_primary_term': 1, 'status': 200}}, {'index': {'_index': 'quant-agents_stocks-eod_2025-10-23', '_id': 'IBM_2025-09-16', '_version': 2, 'result': 'updated', '_shards': {'total': 2, 'successful': 1, 'failed': 0}, '_seq_no': 126, '_primary_term': 1, 'status': 200}}, {'index': {'_index': 'quant-agents_stocks-eod_2025-10-23', '_id': 'IBM_2025-09-15', '_version': 2, 'result': 'updated', '_shards': {'total': 2, 'successful': 1, 'failed': 0}, '_seq_no': 127, '_primary_term': 1, 'status': 200}}, {'index': {'_index': 'quant-agents_stocks-eod_2025-10-23', '_id': 'IBM_2025-09-12', '_version': 2, 'result': 'updated', '_shards': {'total': 2, 'successful': 1, 'failed': 0}, '_seq_no': 128, '_primary_term': 1, 'status': 200}}, {'index': {'_index': 'quant-agents_stocks-eod_2025-10-23', '_id': 'IBM_2025-09-11', '_version': 2, 'result': 'updated', '_shards': {'total': 2, 'successful': 1, 'failed': 0}, '_seq_no': 129, '_primary_term': 1, 'status': 200}}, {'index': {'_index': 'quant-agents_stocks-eod_2025-10-23', '_id': 'IBM_2025-09-10', '_version': 2, 'result': 'updated', '_shards': {'total': 2, 'successful': 1, 'failed': 0}, '_seq_no': 130, '_primary_term': 1, 'status': 200}}, {'index': {'_index': 'quant-agents_stocks-eod_2025-10-23', '_id': 'IBM_2025-09-09', '_version': 2, 'result': 'updated', '_shards': {'total': 2, 'successful': 1, 'failed': 0}, '_seq_no': 131, '_primary_term': 1, 'status': 200}}, {'index': {'_index': 'quant-agents_stocks-eod_2025-10-23', '_id': 'IBM_2025-09-08', '_version': 2, 'result': 'updated', '_shards': {'total': 2, 'successful': 1, 'failed': 0}, '_seq_no': 132, '_primary_term': 1, 'status': 200}}, {'index': {'_index': 'quant-agents_stocks-eod_2025-10-23', '_id': 'IBM_2025-09-05', '_version': 2, 'result': 'updated', '_shards': {'total': 2, 'successful': 1, 'failed': 0}, '_seq_no': 133, '_primary_term': 1, 'status': 200}}, {'index': {'_index': 'quant-agents_stocks-eod_2025-10-23', '_id': 'IBM_2025-09-04', '_version': 2, 'result': 'updated', '_shards': {'total': 2, 'successful': 1, 'failed': 0}, '_seq_no': 134, '_primary_term': 1, 'status': 200}}, {'index': {'_index': 'quant-agents_stocks-eod_2025-10-23', '_id': 'IBM_2025-09-03', '_version': 2, 'result': 'updated', '_shards': {'total': 2, 'successful': 1, 'failed': 0}, '_seq_no': 135, '_primary_term': 1, 'status': 200}}, {'index': {'_index': 'quant-agents_stocks-eod_2025-10-23', '_id': 'IBM_2025-09-02', '_version': 2, 'result': 'updated', '_shards': {'total': 2, 'successful': 1, 'failed': 0}, '_seq_no': 136, '_primary_term': 1, 'status': 200}}, {'index': {'_index': 'quant-agents_stocks-eod_2025-10-23', '_id': 'IBM_2025-08-29', '_version': 2, 'result': 'updated', '_shards': {'total': 2, 'successful': 1, 'failed': 0}, '_seq_no': 137, '_primary_term': 1, 'status': 200}}, {'index': {'_index': 'quant-agents_stocks-eod_2025-10-23', '_id': 'IBM_2025-08-28', '_version': 2, 'result': 'updated', '_shards': {'total': 2, 'successful': 1, 'failed': 0}, '_seq_no': 138, '_primary_term': 1, 'status': 200}}, {'index': {'_index': 'quant-agents_stocks-eod_2025-10-23', '_id': 'IBM_2025-08-27', '_version': 2, 'result': 'updated', '_shards': {'total': 2, 'successful': 1, 'failed': 0}, '_seq_no': 139, '_primary_term': 1, 'status': 200}}, {'index': {'_index': 'quant-agents_stocks-eod_2025-10-23', '_id': 'IBM_2025-08-26', '_version': 2, 'result': 'updated', '_shards': {'total': 2, 'successful': 1, 'failed': 0}, '_seq_no': 140, '_primary_term': 1, 'status': 200}}, {'index': {'_index': 'quant-agents_stocks-eod_2025-10-23', '_id': 'IBM_2025-08-25', '_version': 2, 'result': 'updated', '_shards': {'total': 2, 'successful': 1, 'failed': 0}, '_seq_no': 141, '_primary_term': 1, 'status': 200}}, {'index': {'_index': 'quant-agents_stocks-eod_2025-10-23', '_id': 'IBM_2025-08-22', '_version': 2, 'result': 'updated', '_shards': {'total': 2, 'successful': 1, 'failed': 0}, '_seq_no': 142, '_primary_term': 1, 'status': 200}}, {'index': {'_index': 'quant-agents_stocks-eod_2025-10-23', '_id': 'IBM_2025-08-21', '_version': 2, 'result': 'updated', '_shards': {'total': 2, 'successful': 1, 'failed': 0}, '_seq_no': 143, '_primary_term': 1, 'status': 200}}, {'index': {'_index': 'quant-agents_stocks-eod_2025-10-23', '_id': 'IBM_2025-08-20', '_version': 2, 'result': 'updated', '_shards': {'total': 2, 'successful': 1, 'failed': 0}, '_seq_no': 144, '_primary_term': 1, 'status': 200}}, {'index': {'_index': 'quant-agents_stocks-eod_2025-10-23', '_id': 'IBM_2025-08-19', '_version': 2, 'result': 'updated', '_shards': {'total': 2, 'successful': 1, 'failed': 0}, '_seq_no': 145, '_primary_term': 1, 'status': 200}}, {'index': {'_index': 'quant-agents_stocks-eod_2025-10-23', '_id': 'IBM_2025-08-18', '_version': 2, 'result': 'updated', '_shards': {'total': 2, 'successful': 1, 'failed': 0}, '_seq_no': 146, '_primary_term': 1, 'status': 200}}, {'index': {'_index': 'quant-agents_stocks-eod_2025-10-23', '_id': 'IBM_2025-08-15', '_version': 2, 'result': 'updated', '_shards': {'total': 2, 'successful': 1, 'failed': 0}, '_seq_no': 147, '_primary_term': 1, 'status': 200}}, {'index': {'_index': 'quant-agents_stocks-eod_2025-10-23', '_id': 'IBM_2025-08-14', '_version': 2, 'result': 'updated', '_shards': {'total': 2, 'successful': 1, 'failed': 0}, '_seq_no': 148, '_primary_term': 1, 'status': 200}}, {'index': {'_index': 'quant-agents_stocks-eod_2025-10-23', '_id': 'IBM_2025-08-13', '_version': 2, 'result': 'updated', '_shards': {'total': 2, 'successful': 1, 'failed': 0}, '_seq_no': 149, '_primary_term': 1, 'status': 200}}, {'index': {'_index': 'quant-agents_stocks-eod_2025-10-23', '_id': 'IBM_2025-08-12', '_version': 2, 'result': 'updated', '_shards': {'total': 2, 'successful': 1, 'failed': 0}, '_seq_no': 150, '_primary_term': 1, 'status': 200}}, {'index': {'_index': 'quant-agents_stocks-eod_2025-10-23', '_id': 'IBM_2025-08-11', '_version': 2, 'result': 'updated', '_shards': {'total': 2, 'successful': 1, 'failed': 0}, '_seq_no': 151, '_primary_term': 1, 'status': 200}}, {'index': {'_index': 'quant-agents_stocks-eod_2025-10-23', '_id': 'IBM_2025-08-08', '_version': 2, 'result': 'updated', '_shards': {'total': 2, 'successful': 1, 'failed': 0}, '_seq_no': 152, '_primary_term': 1, 'status': 200}}, {'index': {'_index': 'quant-agents_stocks-eod_2025-10-23', '_id': 'IBM_2025-08-07', '_version': 2, 'result': 'updated', '_shards': {'total': 2, 'successful': 1, 'failed': 0}, '_seq_no': 153, '_primary_term': 1, 'status': 200}}, {'index': {'_index': 'quant-agents_stocks-eod_2025-10-23', '_id': 'IBM_2025-08-06', '_version': 2, 'result': 'updated', '_shards': {'total': 2, 'successful': 1, 'failed': 0}, '_seq_no': 154, '_primary_term': 1, 'status': 200}}, {'index': {'_index': 'quant-agents_stocks-eod_2025-10-23', '_id': 'IBM_2025-08-05', '_version': 2, 'result': 'updated', '_shards': {'total': 2, 'successful': 1, 'failed': 0}, '_seq_no': 155, '_primary_term': 1, 'status': 200}}, {'index': {'_index': 'quant-agents_stocks-eod_2025-10-23', '_id': 'IBM_2025-08-04', '_version': 2, 'result': 'updated', '_shards': {'total': 2, 'successful': 1, 'failed': 0}, '_seq_no': 156, '_primary_term': 1, 'status': 200}}, {'index': {'_index': 'quant-agents_stocks-eod_2025-10-23', '_id': 'IBM_2025-08-01', '_version': 2, 'result': 'updated', '_shards': {'total': 2, 'successful': 1, 'failed': 0}, '_seq_no': 157, '_primary_term': 1, 'status': 200}}, {'index': {'_index': 'quant-agents_stocks-eod_2025-10-23', '_id': 'IBM_2025-07-31', '_version': 2, 'result': 'updated', '_shards': {'total': 2, 'successful': 1, 'failed': 0}, '_seq_no': 158, '_primary_term': 1, 'status': 200}}, {'index': {'_index': 'quant-agents_stocks-eod_2025-10-23', '_id': 'IBM_2025-07-30', '_version': 2, 'result': 'updated', '_shards': {'total': 2, 'successful': 1, 'failed': 0}, '_seq_no': 159, '_primary_term': 1, 'status': 200}}, {'index': {'_index': 'quant-agents_stocks-eod_2025-10-23', '_id': 'IBM_2025-07-29', '_version': 2, 'result': 'updated', '_shards': {'total': 2, 'successful': 1, 'failed': 0}, '_seq_no': 160, '_primary_term': 1, 'status': 200}}, {'index': {'_index': 'quant-agents_stocks-eod_2025-10-23', '_id': 'IBM_2025-07-28', '_version': 2, 'result': 'updated', '_shards': {'total': 2, 'successful': 1, 'failed': 0}, '_seq_no': 161, '_primary_term': 1, 'status': 200}}, {'index': {'_index': 'quant-agents_stocks-eod_2025-10-23', '_id': 'IBM_2025-07-25', '_version': 2, 'result': 'updated', '_shards': {'total': 2, 'successful': 1, 'failed': 0}, '_seq_no': 162, '_primary_term': 1, 'status': 200}}, {'index': {'_index': 'quant-agents_stocks-eod_2025-10-23', '_id': 'IBM_2025-07-24', '_version': 2, 'result': 'updated', '_shards': {'total': 2, 'successful': 1, 'failed': 0}, '_seq_no': 163, '_primary_term': 1, 'status': 200}}, {'index': {'_index': 'quant-agents_stocks-eod_2025-10-23', '_id': 'IBM_2025-07-23', '_version': 2, 'result': 'updated', '_shards': {'total': 2, 'successful': 1, 'failed': 0}, '_seq_no': 164, '_primary_term': 1, 'status': 200}}, {'index': {'_index': 'quant-agents_stocks-eod_2025-10-23', '_id': 'IBM_2025-07-22', '_version': 2, 'result': 'updated', '_shards': {'total': 2, 'successful': 1, 'failed': 0}, '_seq_no': 165, '_primary_term': 1, 'status': 200}}, {'index': {'_index': 'quant-agents_stocks-eod_2025-10-23', '_id': 'IBM_2025-07-21', '_version': 2, 'result': 'updated', '_shards': {'total': 2, 'successful': 1, 'failed': 0}, '_seq_no': 166, '_primary_term': 1, 'status': 200}}, {'index': {'_index': 'quant-agents_stocks-eod_2025-10-23', '_id': 'IBM_2025-07-18', '_version': 2, 'result': 'updated', '_shards': {'total': 2, 'successful': 1, 'failed': 0}, '_seq_no': 167, '_primary_term': 1, 'status': 200}}, {'index': {'_index': 'quant-agents_stocks-eod_2025-10-23', '_id': 'IBM_2025-07-17', '_version': 2, 'result': 'updated', '_shards': {'total': 2, 'successful': 1, 'failed': 0}, '_seq_no': 168, '_primary_term': 1, 'status': 200}}, {'index': {'_index': 'quant-agents_stocks-eod_2025-10-23', '_id': 'IBM_2025-07-16', '_version': 2, 'result': 'updated', '_shards': {'total': 2, 'successful': 1, 'failed': 0}, '_seq_no': 169, '_primary_term': 1, 'status': 200}}, {'index': {'_index': 'quant-agents_stocks-eod_2025-10-23', '_id': 'IBM_2025-07-15', '_version': 2, 'result': 'updated', '_shards': {'total': 2, 'successful': 1, 'failed': 0}, '_seq_no': 170, '_primary_term': 1, 'status': 200}}, {'index': {'_index': 'quant-agents_stocks-eod_2025-10-23', '_id': 'IBM_2025-07-14', '_version': 2, 'result': 'updated', '_shards': {'total': 2, 'successful': 1, 'failed': 0}, '_seq_no': 171, '_primary_term': 1, 'status': 200}}, {'index': {'_index': 'quant-agents_stocks-eod_2025-10-23', '_id': 'IBM_2025-07-11', '_version': 2, 'result': 'updated', '_shards': {'total': 2, 'successful': 1, 'failed': 0}, '_seq_no': 172, '_primary_term': 1, 'status': 200}}, {'index': {'_index': 'quant-agents_stocks-eod_2025-10-23', '_id': 'IBM_2025-07-10', '_version': 2, 'result': 'updated', '_shards': {'total': 2, 'successful': 1, 'failed': 0}, '_seq_no': 173, '_primary_term': 1, 'status': 200}}, {'index': {'_index': 'quant-agents_stocks-eod_2025-10-23', '_id': 'IBM_2025-07-09', '_version': 2, 'result': 'updated', '_shards': {'total': 2, 'successful': 1, 'failed': 0}, '_seq_no': 174, '_primary_term': 1, 'status': 200}}, {'index': {'_index': 'quant-agents_stocks-eod_2025-10-23', '_id': 'IBM_2025-07-08', '_version': 2, 'result': 'updated', '_shards': {'total': 2, 'successful': 1, 'failed': 0}, '_seq_no': 175, '_primary_term': 1, 'status': 200}}, {'index': {'_index': 'quant-agents_stocks-eod_2025-10-23', '_id': 'IBM_2025-07-07', '_version': 2, 'result': 'updated', '_shards': {'total': 2, 'successful': 1, 'failed': 0}, '_seq_no': 176, '_primary_term': 1, 'status': 200}}, {'index': {'_index': 'quant-agents_stocks-eod_2025-10-23', '_id': 'IBM_2025-07-03', '_version': 2, 'result': 'updated', '_shards': {'total': 2, 'successful': 1, 'failed': 0}, '_seq_no': 177, '_primary_term': 1, 'status': 200}}, {'index': {'_index': 'quant-agents_stocks-eod_2025-10-23', '_id': 'IBM_2025-07-02', '_version': 2, 'result': 'updated', '_shards': {'total': 2, 'successful': 1, 'failed': 0}, '_seq_no': 178, '_primary_term': 1, 'status': 200}}, {'index': {'_index': 'quant-agents_stocks-eod_2025-10-23', '_id': 'IBM_2025-07-01', '_version': 2, 'result': 'updated', '_shards': {'total': 2, 'successful': 1, 'failed': 0}, '_seq_no': 179, '_primary_term': 1, 'status': 200}}, {'index': {'_index': 'quant-agents_stocks-eod_2025-10-23', '_id': 'IBM_2025-06-30', '_version': 2, 'result': 'updated', '_shards': {'total': 2, 'successful': 1, 'failed': 0}, '_seq_no': 180, '_primary_term': 1, 'status': 200}}, {'index': {'_index': 'quant-agents_stocks-eod_2025-10-23', '_id': 'IBM_2025-06-27', '_version': 2, 'result': 'updated', '_shards': {'total': 2, 'successful': 1, 'failed': 0}, '_seq_no': 181, '_primary_term': 1, 'status': 200}}, {'index': {'_index': 'quant-agents_stocks-eod_2025-10-23', '_id': 'IBM_2025-06-26', '_version': 2, 'result': 'updated', '_shards': {'total': 2, 'successful': 1, 'failed': 0}, '_seq_no': 182, '_primary_term': 1, 'status': 200}}, {'index': {'_index': 'quant-agents_stocks-eod_2025-10-23', '_id': 'IBM_2025-06-25', '_version': 2, 'result': 'updated', '_shards': {'total': 2, 'successful': 1, 'failed': 0}, '_seq_no': 183, '_primary_term': 1, 'status': 200}}, {'index': {'_index': 'quant-agents_stocks-eod_2025-10-23', '_id': 'IBM_2025-06-24', '_version': 2, 'result': 'updated', '_shards': {'total': 2, 'successful': 1, 'failed': 0}, '_seq_no': 184, '_primary_term': 1, 'status': 200}}, {'index': {'_index': 'quant-agents_stocks-eod_2025-10-23', '_id': 'IBM_2025-06-23', '_version': 2, 'result': 'updated', '_shards': {'total': 2, 'successful': 1, 'failed': 0}, '_seq_no': 185, '_primary_term': 1, 'status': 200}}, {'index': {'_index': 'quant-agents_stocks-eod_2025-10-23', '_id': 'IBM_2025-06-20', '_version': 2, 'result': 'updated', '_shards': {'total': 2, 'successful': 1, 'failed': 0}, '_seq_no': 186, '_primary_term': 1, 'status': 200}}, {'index': {'_index': 'quant-agents_stocks-eod_2025-10-23', '_id': 'IBM_2025-06-18', '_version': 2, 'result': 'updated', '_shards': {'total': 2, 'successful': 1, 'failed': 0}, '_seq_no': 187, '_primary_term': 1, 'status': 200}}, {'index': {'_index': 'quant-agents_stocks-eod_2025-10-23', '_id': 'IBM_2025-06-17', '_version': 2, 'result': 'updated', '_shards': {'total': 2, 'successful': 1, 'failed': 0}, '_seq_no': 188, '_primary_term': 1, 'status': 200}}, {'index': {'_index': 'quant-agents_stocks-eod_2025-10-23', '_id': 'IBM_2025-06-16', '_version': 2, 'result': 'updated', '_shards': {'total': 2, 'successful': 1, 'failed': 0}, '_seq_no': 189, '_primary_term': 1, 'status': 200}}, {'index': {'_index': 'quant-agents_stocks-eod_2025-10-23', '_id': 'IBM_2025-06-13', '_version': 2, 'result': 'updated', '_shards': {'total': 2, 'successful': 1, 'failed': 0}, '_seq_no': 190, '_primary_term': 1, 'status': 200}}, {'index': {'_index': 'quant-agents_stocks-eod_2025-10-23', '_id': 'IBM_2025-06-12', '_version': 2, 'result': 'updated', '_shards': {'total': 2, 'successful': 1, 'failed': 0}, '_seq_no': 191, '_primary_term': 1, 'status': 200}}, {'index': {'_index': 'quant-agents_stocks-eod_2025-10-23', '_id': 'IBM_2025-06-11', '_version': 2, 'result': 'updated', '_shards': {'total': 2, 'successful': 1, 'failed': 0}, '_seq_no': 192, '_primary_term': 1, 'status': 200}}, {'index': {'_index': 'quant-agents_stocks-eod_2025-10-23', '_id': 'IBM_2025-06-10', '_version': 2, 'result': 'updated', '_shards': {'total': 2, 'successful': 1, 'failed': 0}, '_seq_no': 193, '_primary_term': 1, 'status': 200}}, {'index': {'_index': 'quant-agents_stocks-eod_2025-10-23', '_id': 'IBM_2025-06-09', '_version': 2, 'result': 'updated', '_shards': {'total': 2, 'successful': 1, 'failed': 0}, '_seq_no': 194, '_primary_term': 1, 'status': 200}}, {'index': {'_index': 'quant-agents_stocks-eod_2025-10-23', '_id': 'IBM_2025-06-06', '_version': 2, 'result': 'updated', '_shards': {'total': 2, 'successful': 1, 'failed': 0}, '_seq_no': 195, '_primary_term': 1, 'status': 200}}, {'index': {'_index': 'quant-agents_stocks-eod_2025-10-23', '_id': 'IBM_2025-06-05', '_version': 2, 'result': 'updated', '_shards': {'total': 2, 'successful': 1, 'failed': 0}, '_seq_no': 196, '_primary_term': 1, 'status': 200}}, {'index': {'_index': 'quant-agents_stocks-eod_2025-10-23', '_id': 'IBM_2025-06-04', '_version': 2, 'result': 'updated', '_shards': {'total': 2, 'successful': 1, 'failed': 0}, '_seq_no': 197, '_primary_term': 1, 'status': 200}}, {'index': {'_index': 'quant-agents_stocks-eod_2025-10-23', '_id': 'IBM_2025-06-03', '_version': 2, 'result': 'updated', '_shards': {'total': 2, 'successful': 1, 'failed': 0}, '_seq_no': 198, '_primary_term': 1, 'status': 200}}, {'index': {'_index': 'quant-agents_stocks-eod_2025-10-23', '_id': 'IBM_2025-06-02', '_version': 2, 'result': 'updated', '_shards': {'total': 2, 'successful': 1, 'failed': 0}, '_seq_no': 199, '_primary_term': 1, 'status': 200}}]}\n"
     ]
    }
   ],
   "execution_count": 4
  },
  {
   "metadata": {
    "ExecuteTime": {
     "end_time": "2025-10-23T10:34:52.362237Z",
     "start_time": "2025-10-23T10:34:52.360613Z"
    }
   },
   "cell_type": "code",
   "source": "",
   "id": "4c5e4ab08bf92438",
   "outputs": [],
   "execution_count": null
  }
 ],
 "metadata": {
  "kernelspec": {
   "display_name": "Python 3",
   "language": "python",
   "name": "python3"
  },
  "language_info": {
   "codemirror_mode": {
    "name": "ipython",
    "version": 2
   },
   "file_extension": ".py",
   "mimetype": "text/x-python",
   "name": "python",
   "nbconvert_exporter": "python",
   "pygments_lexer": "ipython2",
   "version": "2.7.6"
  }
 },
 "nbformat": 4,
 "nbformat_minor": 5
}
