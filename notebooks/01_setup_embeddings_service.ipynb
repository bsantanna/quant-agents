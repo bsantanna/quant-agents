{
 "cells": [
  {
   "cell_type": "markdown",
   "id": "2023ffb3cb81bfd2",
   "metadata": {},
   "source": [
    "### Agent-Lab: Embeddings Service\n",
    "\n",
    "Objective of this notebook is generating embeddings for static documents using REST API.\n",
    "\n",
    "---\n",
    "\n"
   ]
  },
  {
   "cell_type": "code",
   "execution_count": 1,
   "id": "initial_id",
   "metadata": {
    "ExecuteTime": {
     "end_time": "2025-08-30T13:01:18.114255Z",
     "start_time": "2025-08-30T13:01:16.669200Z"
    }
   },
   "outputs": [],
   "source": [
    "%%capture\n",
    "import os\n",
    "from dotenv import load_dotenv\n",
    "from notebooks import experiment_utils\n",
    "from app.core.container import Container\n",
    "\n",
    "os.chdir(\"..\")\n",
    "load_dotenv()\n",
    "\n",
    "# start dependency injection container\n",
    "container = Container()\n",
    "container.init_resources()\n",
    "container.wire(modules=[__name__])"
   ]
  },
  {
   "cell_type": "markdown",
   "id": "90a32840c7ada4d9",
   "metadata": {},
   "source": [
    "### Upload attachment"
   ]
  },
  {
   "cell_type": "code",
   "execution_count": 2,
   "id": "9ae6cdcd4dbb6335",
   "metadata": {
    "ExecuteTime": {
     "end_time": "2025-08-30T13:01:18.273100Z",
     "start_time": "2025-08-30T13:01:18.118387Z"
    }
   },
   "outputs": [],
   "source": [
    "# create attachment\n",
    "attachment_id = experiment_utils.create_attachment(\n",
    "    file_path=\"tests/integration/sun_tzu_the_art_of_war.zip\",\n",
    "    content_type=\"application/zip\",\n",
    ")"
   ]
  },
  {
   "cell_type": "markdown",
   "id": "5f1c786f2626f751",
   "metadata": {},
   "source": [
    "### Create Embeddings With Ollama"
   ]
  },
  {
   "cell_type": "code",
   "execution_count": 3,
   "id": "e915704d66583fcf",
   "metadata": {
    "ExecuteTime": {
     "end_time": "2025-08-30T13:01:54.153721Z",
     "start_time": "2025-08-30T13:01:19.524171Z"
    }
   },
   "outputs": [],
   "source": [
    "%%capture\n",
    "# create ollama llm with integration\n",
    "ollama_llm = experiment_utils.create_llm_with_integration(\n",
    "    llm_tag=\"phi4-mini:latest\",\n",
    "    integration_params={\n",
    "        \"integration_type\": \"ollama_api_v1\",\n",
    "        \"api_endpoint\": os.getenv(\"OLLAMA_ENDPOINT\"),\n",
    "        \"api_key\": \"ollama\",\n",
    "    },\n",
    ")\n",
    "experiment_utils.create_embeddings(\n",
    "    attachment_id, language_model_id=ollama_llm[\"id\"], collection_name=\"static_document_data_ollama_embeddings\"\n",
    ")"
   ]
  },
  {
   "cell_type": "markdown",
   "id": "15a13ce9b6dafa15",
   "metadata": {},
   "source": [
    "### Create Embeddings With OpenAI"
   ]
  },
  {
   "cell_type": "code",
   "execution_count": 4,
   "id": "65606da3a5bd8586",
   "metadata": {
    "ExecuteTime": {
     "end_time": "2025-08-30T13:02:06.538514Z",
     "start_time": "2025-08-30T13:01:54.159411Z"
    }
   },
   "outputs": [],
   "source": [
    "%%capture\n",
    "# create openai llm with integration\n",
    "openai_llm = experiment_utils.create_llm_with_integration(\n",
    "    llm_tag=\"gpt-5-nano\",\n",
    "    integration_params={\n",
    "        \"integration_type\": \"openai_api_v1\",\n",
    "        \"api_endpoint\": \"https://api.openai.com/v1/\",\n",
    "        \"api_key\": os.getenv(\"OPENAI_API_KEY\"),\n",
    "    },\n",
    ")\n",
    "experiment_utils.create_embeddings(\n",
    "    attachment_id, language_model_id=openai_llm[\"id\"], collection_name=\"static_document_data_openai_embeddings\"\n",
    ")"
   ]
  },
  {
   "cell_type": "code",
   "execution_count": null,
   "id": "80c28baa802a8046",
   "metadata": {},
   "outputs": [],
   "source": []
  }
 ],
 "metadata": {
  "kernelspec": {
   "display_name": "Python 3 (ipykernel)",
   "language": "python",
   "name": "python3"
  },
  "language_info": {
   "codemirror_mode": {
    "name": "ipython",
    "version": 3
   },
   "file_extension": ".py",
   "mimetype": "text/x-python",
   "name": "python",
   "nbconvert_exporter": "python",
   "pygments_lexer": "ipython3",
   "version": "3.12.11"
  }
 },
 "nbformat": 4,
 "nbformat_minor": 5
}
