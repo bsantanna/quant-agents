{
 "cells": [
  {
   "cell_type": "markdown",
   "id": "5574425a3bb18652",
   "metadata": {},
   "source": [
    "### Agent-Lab: Multi-Agent -> Browser\n",
    "\n",
    "Objective of this notebook is evaluating and adapting a [Multi-Agent Supervisor Architecture](https://langchain-ai.github.io/langgraph/concepts/multi_agent/#supervisor) with coordinator and execution planning steps.\n",
    "\n",
    "---\n"
   ]
  },
  {
   "cell_type": "code",
   "id": "initial_id",
   "metadata": {
    "ExecuteTime": {
     "end_time": "2025-09-14T14:59:04.710809Z",
     "start_time": "2025-09-14T14:59:02.148532Z"
    }
   },
   "source": [
    "%%capture\n",
    "import json\n",
    "import os\n",
    "import nest_asyncio\n",
    "from IPython.display import Markdown, display\n",
    "from dotenv import load_dotenv\n",
    "from notebooks import experiment_utils\n",
    "from app.core.container import Container\n",
    "from app.interface.api.messages.schema import MessageRequest\n",
    "\n",
    "\n",
    "os.chdir(\"..\")\n",
    "load_dotenv()\n",
    "nest_asyncio.apply()\n",
    "\n",
    "# start dependency injection container\n",
    "container = Container()\n",
    "container.init_resources()\n",
    "container.wire(modules=[__name__])\n",
    "\n",
    "# get checkpointer instance\n",
    "graph_persistence_factory = container.graph_persistence_factory()\n",
    "checkpointer = graph_persistence_factory.build_checkpoint_saver()"
   ],
   "outputs": [],
   "execution_count": 1
  },
  {
   "cell_type": "markdown",
   "id": "2e69a13ddec02d61",
   "metadata": {},
   "source": [
    "---\n",
    "### Anthropic Browser"
   ]
  },
  {
   "cell_type": "code",
   "id": "effb2a4a66f79ddd",
   "metadata": {
    "ExecuteTime": {
     "end_time": "2025-09-14T14:59:05.943388Z",
     "start_time": "2025-09-14T14:59:05.732348Z"
    }
   },
   "source": [
    "# Create Workflow\n",
    "anthropic_agent = experiment_utils.create_anthropic_agent(\n",
    "    agent_type=\"coordinator_planner_supervisor\", llm_tag=\"claude-sonnet-4-0\", api_key=os.getenv(\"ANTHROPIC_API_KEY\")\n",
    ")\n",
    "anthropic_browser_agent = container.coordinator_planner_supervisor_agent()\n",
    "anthropic_workflow_builder = anthropic_browser_agent.get_workflow_builder(anthropic_agent[\"id\"])\n",
    "anthropic_workflow = anthropic_workflow_builder.compile(checkpointer=checkpointer)"
   ],
   "outputs": [],
   "execution_count": 2
  },
  {
   "cell_type": "code",
   "id": "863e96a21b963e53",
   "metadata": {
    "ExecuteTime": {
     "end_time": "2025-09-14T15:00:19.993050Z",
     "start_time": "2025-09-14T14:59:07.299648Z"
    }
   },
   "source": [
    "%%capture\n",
    "\n",
    "message = MessageRequest(\n",
    "    message_role=\"human\",\n",
    "    message_content=\"Using web browser at your disposal, visit https://en.wikipedia.org/wiki/Mathematical_finance and rewrite the first paragraph in a simpler way that a 12 year old would understand.\",\n",
    "    agent_id=anthropic_agent[\"id\"],\n",
    ")\n",
    "\n",
    "inputs = anthropic_browser_agent.get_input_params(message, schema=\"public\")\n",
    "config = anthropic_browser_agent.get_config(anthropic_agent[\"id\"])\n",
    "result = anthropic_workflow.invoke(inputs, config)\n",
    "ai_message_content, workflow_state = anthropic_browser_agent.format_response(result)"
   ],
   "outputs": [],
   "execution_count": 3
  },
  {
   "cell_type": "code",
   "id": "d79eb6031ba16b4",
   "metadata": {
    "ExecuteTime": {
     "end_time": "2025-09-14T15:00:20.012711Z",
     "start_time": "2025-09-14T15:00:20.008038Z"
    }
   },
   "source": [
    "display(\n",
    "    Markdown(\n",
    "        f\"**Execution Plan:**\\n```json\\n{json.dumps(workflow_state.get(\"execution_plan\"), indent=2)}\\n```\"\n",
    "    )\n",
    ")"
   ],
   "outputs": [
    {
     "data": {
      "text/plain": [
       "<IPython.core.display.Markdown object>"
      ],
      "text/markdown": "**Execution Plan:**\n```json\n{\n  \"thought\": \"The user wants me to visit a specific Wikipedia page about Mathematical Finance and rewrite the first paragraph in simpler language that a 12-year-old would understand. This requires me to: 1) Use the browser agent to visit the Wikipedia page and extract the first paragraph, 2) Then use the reporter agent to rewrite that content in age-appropriate, simple language.\",\n  \"title\": \"Simplify Mathematical Finance Wikipedia Article for 12-Year-Olds\",\n  \"steps\": [\n    {\n      \"agent_name\": \"browser\",\n      \"title\": \"Visit Wikipedia page and extract first paragraph\",\n      \"description\": \"Navigate to https://en.wikipedia.org/wiki/Mathematical_finance and locate the first paragraph of the article. Extract the complete text of the first paragraph to understand what mathematical finance is about. The browser agent should capture the exact content that needs to be simplified.\"\n    },\n    {\n      \"agent_name\": \"reporter\",\n      \"title\": \"Rewrite content for 12-year-olds\",\n      \"description\": \"Take the first paragraph content extracted from the Wikipedia page and rewrite it in simple, clear language that a 12-year-old can easily understand. Use everyday words, shorter sentences, and relatable examples. Avoid technical jargon and complex mathematical concepts. Present the simplified version as the final report.\"\n    }\n  ]\n}\n```"
     },
     "metadata": {},
     "output_type": "display_data",
     "jetTransient": {
      "display_id": null
     }
    }
   ],
   "execution_count": 4
  },
  {
   "cell_type": "code",
   "id": "c74e31e3a141ce8f",
   "metadata": {
    "ExecuteTime": {
     "end_time": "2025-09-14T15:00:20.023836Z",
     "start_time": "2025-09-14T15:00:20.021362Z"
    }
   },
   "source": [
    "display(Markdown(f\"**AI Message Content:**\\n\\n{ai_message_content}\"))"
   ],
   "outputs": [
    {
     "data": {
      "text/plain": [
       "<IPython.core.display.Markdown object>"
      ],
      "text/markdown": "**AI Message Content:**\n\nPerfect! Now I can rewrite this first paragraph in a way that a 12-year-old would understand:\n\n**Here's the simplified version:**\n\n**Mathematical finance** (also called quantitative finance or financial mathematics) is basically using math to help solve money problems. It's when smart people use numbers and calculations to figure out things about money and investing. There are two main ways people use this math with money: \n\n1. First, they use it to figure out how much certain financial products (called derivatives) should cost\n2. Second, they use it to help people manage risk (which means avoiding losing money) and decide how to invest their money wisely\n\nThink of it like this: just like you might use math to figure out if you have enough allowance money to buy something you want, financial mathematicians use much more complicated math to help banks, companies, and investors make smart decisions with much larger amounts of money!"
     },
     "metadata": {},
     "output_type": "display_data",
     "jetTransient": {
      "display_id": null
     }
    }
   ],
   "execution_count": 5
  },
  {
   "cell_type": "code",
   "id": "6c256dd795e8da55",
   "metadata": {},
   "source": [],
   "outputs": [],
   "execution_count": null
  }
 ],
 "metadata": {
  "kernelspec": {
   "display_name": "Python 3 (ipykernel)",
   "language": "python",
   "name": "python3"
  },
  "language_info": {
   "codemirror_mode": {
    "name": "ipython",
    "version": 3
   },
   "file_extension": ".py",
   "mimetype": "text/x-python",
   "name": "python",
   "nbconvert_exporter": "python",
   "pygments_lexer": "ipython3",
   "version": "3.12.11"
  }
 },
 "nbformat": 4,
 "nbformat_minor": 5
}
