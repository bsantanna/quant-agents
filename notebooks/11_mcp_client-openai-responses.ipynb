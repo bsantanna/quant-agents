{
 "cells": [
  {
   "cell_type": "markdown",
   "id": "5574425a3bb18652",
   "metadata": {},
   "source": [
    "### Agent-Lab: MCP Client -> OpenAI Responses API MCP Tool\n",
    "\n",
    "Objective of this notebook is evaluating [OpenAI Responses API with MCP Tool](https://cookbook.openai.com/examples/mcp/mcp_tool_guide)\n",
    "\n",
    "- [Reference documentation](https://platform.openai.com/docs/guides/tools-connectors-mcp)\n",
    "\n",
    "---\n"
   ]
  },
  {
   "cell_type": "code",
   "execution_count": 1,
   "id": "initial_id",
   "metadata": {
    "ExecuteTime": {
     "end_time": "2025-09-05T19:00:38.431777Z",
     "start_time": "2025-09-05T19:00:36.835847Z"
    }
   },
   "outputs": [],
   "source": [
    "%%capture\n",
    "import json\n",
    "import os\n",
    "import nest_asyncio\n",
    "from IPython.display import Markdown, display\n",
    "from dotenv import load_dotenv\n",
    "from notebooks.experiment_utils import openai_responses_api_mcp_tool_request as openai_mcp\n",
    "\n",
    "os.chdir(\"..\")\n",
    "load_dotenv()\n",
    "nest_asyncio.apply()"
   ]
  },
  {
   "cell_type": "code",
   "execution_count": 2,
   "id": "6c256dd795e8da55",
   "metadata": {
    "ExecuteTime": {
     "end_time": "2025-09-05T19:01:08.797639Z",
     "start_time": "2025-09-05T19:01:08.796283Z"
    }
   },
   "outputs": [],
   "source": [
    "response = openai_mcp(\n",
    "    query=\"What agents are available with agent-lab?\",\n",
    "    mcp_server={\n",
    "        \"type\": \"mcp\",\n",
    "        \"server_label\": \"agent-lab\",\n",
    "        \"server_url\": \"https://agent-lab.btech.software/sse\",\n",
    "        \"require_approval\": \"never\",\n",
    "        \"authorization\": os.getenv(\"ACCESS_TOKEN\")\n",
    "    }\n",
    ")"
   ]
  },
  {
   "cell_type": "code",
   "execution_count": 9,
   "id": "cc1681d3-d553-489c-8fa6-a146ea7e9a7b",
   "metadata": {},
   "outputs": [
    {
     "data": {
      "text/markdown": [
       "**Step 1:**\n",
       "```json\n",
       "{\n",
       "  \"id\": \"rs_68bc2450bbfc81948cae32000058cc3e088c300014d3f341\",\n",
       "  \"type\": \"reasoning\",\n",
       "  \"summary\": [\n",
       "    {\n",
       "      \"type\": \"summary_text\",\n",
       "      \"text\": \"**Calling agent list**\\n\\nI need to call the function get_agent_list from mcp_agent-lab. It's important to present that list accurately. I think simulating the call to the tool will help ensure that I get the right information prepared for the user. I\\u2019m hoping this process goes smoothly so I can present the details clearly! Let's get started with the function call to retrieve this list.\"\n",
       "    }\n",
       "  ]\n",
       "}\n",
       "```"
      ],
      "text/plain": [
       "<IPython.core.display.Markdown object>"
      ]
     },
     "metadata": {},
     "output_type": "display_data"
    },
    {
     "data": {
      "text/markdown": [
       "**Step 2:**\n",
       "```json\n",
       "{\n",
       "  \"id\": \"mcp_68bc24538fa48194aade19dc50384ee9088c300014d3f341\",\n",
       "  \"type\": \"mcp_call\",\n",
       "  \"approval_request_id\": null,\n",
       "  \"arguments\": \"{}\",\n",
       "  \"error\": null,\n",
       "  \"name\": \"get_agent_list\",\n",
       "  \"output\": \"[{\\\"id\\\": \\\"dc75aa35-ce4a-47d1-afca-074ae179b1e8\\\", \\\"is_active\\\": true, \\\"created_at\\\": \\\"2025-09-06T11:49:02.448818\\\", \\\"agent_name\\\": \\\"grok-code-fast-python-expert\\\", \\\"agent_type\\\": \\\"coordinator_planner_supervisor\\\", \\\"agent_summary\\\": \\\"\\\", \\\"language_model_id\\\": \\\"524ea238-be07-4d03-a91d-3faa68721a1d\\\"}]\",\n",
       "  \"server_label\": \"agent-lab\"\n",
       "}\n",
       "```"
      ],
      "text/plain": [
       "<IPython.core.display.Markdown object>"
      ]
     },
     "metadata": {},
     "output_type": "display_data"
    },
    {
     "data": {
      "text/markdown": [
       "**Step 3:**\n",
       "```json\n",
       "{\n",
       "  \"id\": \"rs_68bc2453f25c81948ab5fc63381eb70f088c300014d3f341\",\n",
       "  \"type\": \"reasoning\",\n",
       "  \"summary\": [\n",
       "    {\n",
       "      \"type\": \"summary_text\",\n",
       "      \"text\": \"**Organizing response details**\\n\\nI\\u2019m thinking about giving a clear answer with a list format. It\\u2019s smart to ask if the user wants more details, plus I should include IDs and types related to their query. It looks like I need to note that the summary is empty, so I\\u2019ll also offer a suggestion to guide them further. This way, I\\u2019m ensuring a helpful and structured response!\"\n",
       "    }\n",
       "  ]\n",
       "}\n",
       "```"
      ],
      "text/plain": [
       "<IPython.core.display.Markdown object>"
      ]
     },
     "metadata": {},
     "output_type": "display_data"
    },
    {
     "data": {
      "text/markdown": [
       "**Step 4:**\n",
       "```json\n",
       "{\n",
       "  \"id\": \"msg_68bc2455d28c819484278536bd2c904c088c300014d3f341\",\n",
       "  \"type\": \"message\",\n",
       "  \"status\": \"completed\",\n",
       "  \"content\": [\n",
       "    {\n",
       "      \"type\": \"output_text\",\n",
       "      \"annotations\": [],\n",
       "      \"logprobs\": [],\n",
       "      \"text\": \"Here\\u2019s what I found:\\n\\n- ID: dc75aa35-ce4a-47d1-afca-074ae179b1e8\\n  - Name: grok-code-fast-python-expert\\n  - Type: coordinator_planner_supervisor\\n  - Summary: (empty)\\n  - Language Model ID: 524ea238-be07-4d03-a91d-3faa68721a1d\\n  - Created At: 2025-09-06T11:49:02.448818\\n  - Active: true\\n\\nWould you like me to pull more details about this agent or fetch the full list if there are more in your environment?\"\n",
       "    }\n",
       "  ],\n",
       "  \"role\": \"assistant\"\n",
       "}\n",
       "```"
      ],
      "text/plain": [
       "<IPython.core.display.Markdown object>"
      ]
     },
     "metadata": {},
     "output_type": "display_data"
    }
   ],
   "source": [
    "step = 0\n",
    "for output in response[\"output\"]:\n",
    "    if output[\"type\"]!=\"mcp_list_tools\": # first call goes to list tools\n",
    "        step+=1\n",
    "        display(\n",
    "            Markdown(\n",
    "                f\"**Step {step}:**\\n```json\\n{json.dumps(output, indent=2)}\\n```\"\n",
    "            )\n",
    "        )"
   ]
  },
  {
   "cell_type": "code",
   "execution_count": 11,
   "id": "69b91a30-585d-4bce-aac1-bbd65ac8f2f9",
   "metadata": {},
   "outputs": [
    {
     "name": "stdout",
     "output_type": "stream",
     "text": [
      "Here’s what I found:\n",
      "\n",
      "- ID: dc75aa35-ce4a-47d1-afca-074ae179b1e8\n",
      "  - Name: grok-code-fast-python-expert\n",
      "  - Type: coordinator_planner_supervisor\n",
      "  - Summary: (empty)\n",
      "  - Language Model ID: 524ea238-be07-4d03-a91d-3faa68721a1d\n",
      "  - Created At: 2025-09-06T11:49:02.448818\n",
      "  - Active: true\n",
      "\n",
      "Would you like me to pull more details about this agent or fetch the full list if there are more in your environment?\n"
     ]
    }
   ],
   "source": [
    "print(f\"{response[\"output\"][-1][\"content\"][-1][\"text\"]}\")"
   ]
  },
  {
   "cell_type": "code",
   "execution_count": null,
   "id": "4deb7b3f-5a82-4cf2-9043-a357db86b727",
   "metadata": {},
   "outputs": [],
   "source": []
  }
 ],
 "metadata": {
  "kernelspec": {
   "display_name": "Python 3 (ipykernel)",
   "language": "python",
   "name": "python3"
  },
  "language_info": {
   "codemirror_mode": {
    "name": "ipython",
    "version": 3
   },
   "file_extension": ".py",
   "mimetype": "text/x-python",
   "name": "python",
   "nbconvert_exporter": "python",
   "pygments_lexer": "ipython3",
   "version": "3.12.11"
  }
 },
 "nbformat": 4,
 "nbformat_minor": 5
}
