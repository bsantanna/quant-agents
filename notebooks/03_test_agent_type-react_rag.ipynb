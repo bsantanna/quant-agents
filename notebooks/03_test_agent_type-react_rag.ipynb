{
 "cells": [
  {
   "cell_type": "markdown",
   "id": "64f16bc9dac3dcc0",
   "metadata": {},
   "source": [
    "### Agent-Lab: ReACT RAG Agent\n",
    "\n",
    "Objective of this notebook is evaluating and adapting the implementation of [ReAct Agent](https://langchain-ai.github.io/langgraph/how-tos/create-react-agent/) with retrieval evaluation.\n",
    "\n",
    "---"
   ]
  },
  {
   "cell_type": "code",
   "execution_count": 1,
   "id": "initial_id",
   "metadata": {
    "ExecuteTime": {
     "end_time": "2025-08-31T07:59:42.771338Z",
     "start_time": "2025-08-31T07:59:40.421494Z"
    }
   },
   "outputs": [],
   "source": [
    "%%capture\n",
    "import json\n",
    "import os\n",
    "import nest_asyncio\n",
    "from dotenv import load_dotenv\n",
    "from IPython.display import Markdown, display\n",
    "from notebooks import experiment_utils\n",
    "from app.core.container import Container\n",
    "from app.interface.api.messages.schema import MessageRequest\n",
    "\n",
    "os.chdir(\"..\")\n",
    "load_dotenv()\n",
    "nest_asyncio.apply()\n",
    "\n",
    "# start dependency injection container\n",
    "container = Container()\n",
    "container.init_resources()\n",
    "container.wire(modules=[__name__])"
   ]
  },
  {
   "cell_type": "markdown",
   "id": "1dd2c8220157de3",
   "metadata": {},
   "source": [
    "---\n",
    "### XAI ReACT RAG Agent"
   ]
  },
  {
   "cell_type": "code",
   "execution_count": 2,
   "id": "797e52d2-0565-4fee-8a08-463ec7c91b09",
   "metadata": {
    "ExecuteTime": {
     "end_time": "2025-08-31T08:00:13.814706Z",
     "start_time": "2025-08-31T07:59:42.776789Z"
    }
   },
   "outputs": [
    {
     "data": {
      "image/png": "[encoded data removed]",
      "text/plain": [
       "<IPython.core.display.Image object>"
      ]
     },
     "metadata": {},
     "output_type": "display_data"
    }
   ],
   "source": [
    "# Create Workflow\n",
    "\n",
    "xai_agent = experiment_utils.create_xai_agent(\n",
    "    agent_type=\"react_rag\", llm_tag=\"grok-code-fast\", api_key=os.getenv(\"XAI_API_KEY\")\n",
    ")\n",
    "xai_agent_config = {\n",
    "    \"configurable\": {\n",
    "        \"thread_id\": xai_agent[\"id\"],\n",
    "    },\n",
    "    \"recursion_limit\": 30,\n",
    "}\n",
    "xai_react_rag_agent = container.react_rag_agent()\n",
    "xai_workflow = xai_react_rag_agent.get_workflow(xai_agent[\"id\"],schema=\"public\")\n",
    "\n",
    "experiment_utils.print_graph(xai_workflow)"
   ]
  },
  {
   "cell_type": "code",
   "execution_count": 3,
   "id": "9f3a49cff851703",
   "metadata": {
    "ExecuteTime": {
     "end_time": "2025-08-31T08:00:23.529493Z",
     "start_time": "2025-08-31T08:00:13.894016Z"
    }
   },
   "outputs": [],
   "source": [
    "%%capture\n",
    "\n",
    "message = MessageRequest(\n",
    "    message_role=\"human\",\n",
    "    message_content=\"What is the pinnacle of excellence?\",\n",
    "    agent_id=xai_agent[\"id\"],\n",
    ")\n",
    "\n",
    "inputs = xai_react_rag_agent.get_input_params(message, schema=\"public\")\n",
    "result = xai_workflow.invoke(inputs, xai_agent_config)\n",
    "ai_message_content, workflow_state = xai_react_rag_agent.format_response(result)"
   ]
  },
  {
   "cell_type": "code",
   "execution_count": 4,
   "id": "4056f931508d3b0",
   "metadata": {
    "ExecuteTime": {
     "end_time": "2025-08-31T08:00:23.550280Z",
     "start_time": "2025-08-31T08:00:23.546859Z"
    }
   },
   "outputs": [
    {
     "data": {
      "text/markdown": [
       "**AI Message Content:**\n",
       "\n",
       "<thinking>\n",
       "1. Analyse and understand the question and user intent: The query \"What is the pinnacle of excellence?\" is a philosophical or general question seeking a definition or concept of the highest form of excellence. Given the context, which is heavily drawn from Sun Tzu's \"The Art of War,\" the user intent likely leans toward a strategic, military, or leadership perspective. The context emphasizes supreme excellence in warfare, planning, and moral conduct, so I should frame my response around that theme without directly referencing the context as supplied material.\n",
       "\n",
       "2. Think about the solution: The pinnacle of excellence, based on the context, is achieving victory or success without direct confrontation—through wisdom, secrecy, moral leadership, and strategic preparation. Key elements include breaking enemy resistance without fighting, cultivating virtues like wisdom and benevolence, and following disciplined methods. I need to synthesize this into a coherent, insightful answer that feels like a direct response to the query, drawing from the ideas presented.\n",
       "\n",
       "3. Resolve the task with the tools at your disposal: I have the context as a source of information, so I'll extract and rephrase the relevant concepts to form a good answer. No additional tools are needed; this is interpretive. I'll make it engaging and concise, perhaps structuring it around core principles.\n",
       "\n",
       "4. Verify if the solution addresses the user intent properly: This response defines \"pinnacle of excellence\" in a way that aligns with the query's open-ended nature, using the context's wisdom to provide depth. It avoids direct quotes or acknowledgments of the context, treating it as integrated knowledge. The answer is truthful, insightful, and promotes positive themes like strategy and ethics.\n",
       "</thinking>\n",
       "\n",
       "<response>The pinnacle of excellence, as articulated in timeless strategic wisdom, lies not in brute force or overt conquest, but in achieving total victory without ever drawing a sword. It is the art of outmaneuvering an adversary through profound foresight, impenetrable secrecy, and impeccable moral discipline—breaking their resistance before a single battle is fought. This supreme mastery demands wisdom to anticipate and disrupt enemy plans, sincerity and benevolence to inspire unwavering loyalty, courage to strike decisively when the moment is ripe, and strictness to maintain unbreakable order. Ultimately, it manifests in positioning oneself where defeat is impossible, cultivating the moral law, and adhering to methodical calculation, ensuring success that transcends mere physical triumph and resonates on a higher plane.</response>"
      ],
      "text/plain": [
       "<IPython.core.display.Markdown object>"
      ]
     },
     "metadata": {},
     "output_type": "display_data"
    }
   ],
   "source": [
    "display(Markdown(f\"**AI Message Content:**\\n\\n{ai_message_content}\"))"
   ]
  },
  {
   "cell_type": "code",
   "execution_count": 5,
   "id": "8a1b771dff7a1f24",
   "metadata": {
    "ExecuteTime": {
     "end_time": "2025-08-31T08:00:30.253238Z",
     "start_time": "2025-08-31T08:00:23.557225Z"
    }
   },
   "outputs": [],
   "source": [
    "%%capture\n",
    "\n",
    "message = MessageRequest(\n",
    "    message_role=\"human\",\n",
    "    message_content=\"Kun je mijn vorige vraag en jouw antwoord herhalen in Nederlands alstublieft? Gebruik maximaal tien zinnen.\",\n",
    "    agent_id=xai_agent[\"id\"],\n",
    ")\n",
    "\n",
    "inputs = xai_react_rag_agent.get_input_params(message, schema=\"public\")\n",
    "result = xai_workflow.invoke(inputs, xai_agent_config)\n",
    "ai_message_content, workflow_state = xai_react_rag_agent.format_response(result)"
   ]
  },
  {
   "cell_type": "code",
   "execution_count": 6,
   "id": "2345b2d7bfb44d20",
   "metadata": {
    "ExecuteTime": {
     "end_time": "2025-08-31T08:00:30.275461Z",
     "start_time": "2025-08-31T08:00:30.271988Z"
    }
   },
   "outputs": [
    {
     "data": {
      "text/markdown": [
       "**AI Message Content:**\n",
       "\n",
       "<thinking>\n",
       "1. Analyse and understand the question and user intent: The user is asking to repeat their previous question (\"What is the pinnacle of excellence?\") and my previous answer in Dutch. They specify using a maximum of ten sentences. This is a straightforward translation request, so I need to provide an accurate Dutch version of the prior interaction.\n",
       "\n",
       "2. Think about the solution: Translate the previous question directly: \"Wat is de toppunt van excellentie?\" (or more naturally \"Wat is het toppunt van uitmuntendheid?\"). For the answer, summarize and translate my original response concisely into Dutch, ensuring it's under 10 sentences. Key points: pinnacle of excellence is achieving victory without fighting, through strategy, wisdom, etc. Aim for clarity and brevity.\n",
       "\n",
       "3. Resolve the task with tools: Use my knowledge to translate. No external tools needed. Structure as: State the previous question, then the answer, in a flowing Dutch response.\n",
       "\n",
       "4. Verify: This addresses the intent by repeating/translating the Q&A in Dutch. It's truthful, concise (under 10 sentences), and directly responsive.\n",
       "</thinking>\n",
       "\n",
       "<response>Je vorige vraag was: \"Wat is het toppunt van excellentie?\"  \n",
       "Mijn vorige antwoord was: Het toppunt van excellentie ligt niet in brute kracht of openlijke overwinning, maar in het bereiken van totale zege zonder ooit een zwaard te trekken. Het is de kunst om een tegenstander te overtroeven door diepgaande voorzichtigheid, ondoordringbare geheimhouding en onberispelijke morele discipline—hun weerstand breken voordat een enkele strijd wordt gevoerd. Deze hoogste beheersing vereist wijsheid om vijandelijke plannen te voorzien en te verstoren, oprechtheid en welwillendheid om onwankelbare loyaliteit te inspireren, moed om beslissend toe te slaan wanneer het moment rijp is, en strengheid om onbreekbare orde te handhaven. Uiteindelijk manifesteert het zich in het positioneren waar nederlaag onmogelijk is, het cultiveren van de morele wet, en het vasthouden aan methodische berekening, waardoor succes wordt gegarandeerd dat verder gaat dan louter fysieke triomf en resoneert op een hoger vlak.</response>"
      ],
      "text/plain": [
       "<IPython.core.display.Markdown object>"
      ]
     },
     "metadata": {},
     "output_type": "display_data"
    }
   ],
   "source": [
    "display(Markdown(f\"**AI Message Content:**\\n\\n{ai_message_content}\"))"
   ]
  },
  {
   "cell_type": "markdown",
   "id": "9584994be5057cb0",
   "metadata": {},
   "source": [
    "---\n",
    "### Anthropic ReACT RAG Agent"
   ]
  },
  {
   "cell_type": "code",
   "execution_count": 7,
   "id": "49439622-0dcb-4ad6-8d7b-7991c7010356",
   "metadata": {
    "ExecuteTime": {
     "end_time": "2025-08-31T08:00:30.382959Z",
     "start_time": "2025-08-31T08:00:30.281317Z"
    }
   },
   "outputs": [],
   "source": [
    "# Create Workflow\n",
    "\n",
    "anthropic_agent = experiment_utils.create_anthropic_agent(\n",
    "    agent_type=\"react_rag\", llm_tag=\"claude-sonnet-4-20250514\", api_key=os.getenv(\"ANTHROPIC_API_KEY\")\n",
    ")\n",
    "anthropic_agent_config = {\n",
    "    \"configurable\": {\n",
    "        \"thread_id\": anthropic_agent[\"id\"],\n",
    "    },\n",
    "    \"recursion_limit\": 30,\n",
    "}\n",
    "anthropic_react_rag_agent = container.react_rag_agent()\n",
    "anthropic_workflow = anthropic_react_rag_agent.get_workflow(anthropic_agent[\"id\"],schema=\"public\")"
   ]
  },
  {
   "cell_type": "code",
   "execution_count": 8,
   "id": "d95e6641414f5e54",
   "metadata": {
    "ExecuteTime": {
     "end_time": "2025-08-31T08:00:47.226842Z",
     "start_time": "2025-08-31T08:00:30.387345Z"
    }
   },
   "outputs": [],
   "source": [
    "%%capture\n",
    "\n",
    "message = MessageRequest(\n",
    "    message_role=\"human\",\n",
    "    message_content=\"What is the pinnacle of excellence?\",\n",
    "    agent_id=anthropic_agent[\"id\"],\n",
    ")\n",
    "\n",
    "inputs = anthropic_react_rag_agent.get_input_params(message, schema=\"public\")\n",
    "result = anthropic_workflow.invoke(inputs, anthropic_agent_config)\n",
    "ai_message_content, workflow_state = anthropic_react_rag_agent.format_response(result)"
   ]
  },
  {
   "cell_type": "code",
   "execution_count": 9,
   "id": "82acbe98b7a250e5",
   "metadata": {
    "ExecuteTime": {
     "end_time": "2025-08-31T08:00:47.245590Z",
     "start_time": "2025-08-31T08:00:47.242521Z"
    }
   },
   "outputs": [
    {
     "data": {
      "text/markdown": [
       "**AI Message Content:**\n",
       "\n",
       "<thinking>\n",
       "The user is asking about \"the pinnacle of excellence\" in a general sense. The context provided appears to be from Sun Tzu's \"The Art of War,\" which discusses military strategy and what constitutes supreme excellence in warfare and leadership.\n",
       "\n",
       "From the context, I can extract several key concepts about excellence:\n",
       "\n",
       "1. Supreme excellence is not just fighting and conquering, but achieving victory without fighting\n",
       "2. The highest form of excellence involves strategic thinking - breaking enemy resistance without bloodshed\n",
       "3. True excellence involves planning secretly, moving carefully, and achieving goals without direct confrontation\n",
       "4. Excellence includes the ability to see victory before it's obvious to others\n",
       "5. Making no mistakes and ensuring certainty of victory\n",
       "6. The consummate leader who cultivates moral law, method, and discipline\n",
       "\n",
       "The user is asking this as a philosophical question, so I should provide a thoughtful answer that captures the essence of what constitutes the pinnacle of excellence, drawing from these strategic principles but applying them more broadly to life and achievement in general.\n",
       "\n",
       "I should focus on the key theme that seems to run through the context: that true excellence isn't just about winning through force or obvious means, but about achieving objectives through wisdom, preparation, and strategic thinking that minimizes conflict and maximizes efficiency.\n",
       "</thinking>\n",
       "\n",
       "<response>\n",
       "The pinnacle of excellence lies not in achieving victory through brute force or obvious means, but in accomplishing your objectives with such wisdom and strategic foresight that success appears effortless and inevitable.\n",
       "\n",
       "True excellence manifests in several key ways:\n",
       "\n",
       "**Effortless Achievement**: The highest form of excellence is solving problems and achieving goals without creating unnecessary conflict or expending excessive resources. It's about finding elegant solutions that address root causes rather than just symptoms.\n",
       "\n",
       "**Preparation and Foresight**: Excellence involves thorough preparation, careful planning, and the ability to anticipate challenges before they arise. This creates a foundation where success becomes not just possible, but probable.\n",
       "\n",
       "**Strategic Thinking**: Rather than rushing into action, excellence requires the patience to understand the full landscape of a situation, identify the most efficient path forward, and execute with precision timing.\n",
       "\n",
       "**Making Success Inevitable**: The truly excellent approach is to create conditions where positive outcomes are virtually guaranteed, rather than leaving success to chance or hope.\n",
       "\n",
       "**Wisdom Over Force**: Excellence prioritizes intelligent solutions over powerful ones. It's about achieving maximum impact with minimum effort and disruption.\n",
       "\n",
       "The pinnacle of excellence, therefore, is the ability to achieve your most important goals in ways that appear natural and inevitable to others, while requiring no unnecessary struggle or conflict. It's mastery so complete that the effort behind it becomes invisible.\n",
       "</response>"
      ],
      "text/plain": [
       "<IPython.core.display.Markdown object>"
      ]
     },
     "metadata": {},
     "output_type": "display_data"
    }
   ],
   "source": [
    "display(Markdown(f\"**AI Message Content:**\\n\\n{ai_message_content}\"))"
   ]
  },
  {
   "cell_type": "code",
   "execution_count": 10,
   "id": "a5257ff6348cd88b",
   "metadata": {
    "ExecuteTime": {
     "end_time": "2025-08-31T08:00:59.792687Z",
     "start_time": "2025-08-31T08:00:47.251106Z"
    }
   },
   "outputs": [],
   "source": [
    "%%capture\n",
    "\n",
    "message = MessageRequest(\n",
    "    message_role=\"human\",\n",
    "    message_content=\"Kun je mijn vorige vraag en jouw antwoord herhalen in Nederlands alstublieft? Gebruik maximaal tien zinnen.\",\n",
    "    agent_id=anthropic_agent[\"id\"],\n",
    ")\n",
    "\n",
    "inputs = anthropic_react_rag_agent.get_input_params(message, schema=\"public\")\n",
    "result = anthropic_workflow.invoke(inputs, anthropic_agent_config)\n",
    "ai_message_content, workflow_state = anthropic_react_rag_agent.format_response(result)"
   ]
  },
  {
   "cell_type": "code",
   "execution_count": 11,
   "id": "21e4735e82c720fa",
   "metadata": {
    "ExecuteTime": {
     "end_time": "2025-08-31T08:00:59.815529Z",
     "start_time": "2025-08-31T08:00:59.812362Z"
    }
   },
   "outputs": [
    {
     "data": {
      "text/markdown": [
       "**AI Message Content:**\n",
       "\n",
       "<thinking>\n",
       "The user is asking me to repeat their previous question and my answer in Dutch, using a maximum of ten sentences. Let me first identify what their previous question was and what my answer was:\n",
       "\n",
       "Previous question: \"What is the pinnacle of excellence?\"\n",
       "My previous answer: I explained that the pinnacle of excellence lies in achieving objectives with wisdom and strategic foresight, making success appear effortless, through preparation, strategic thinking, making success inevitable, and using wisdom over force.\n",
       "\n",
       "Now I need to translate both the question and a condensed version of my answer into Dutch, keeping it to maximum 10 sentences.\n",
       "</thinking>\n",
       "\n",
       "<response>\n",
       "**Jouw vorige vraag:** \"What is the pinnacle of excellence?\"\n",
       "\n",
       "**Mijn antwoord in het Nederlands:**\n",
       "\n",
       "De top van excellentie ligt niet in het behalen van overwinning door brute kracht, maar in het bereiken van doelen met zoveel wijsheid dat succes moeiteloos lijkt. Ware excellentie toont zich door grondige voorbereiding en het vermogen om uitdagingen te voorzien voordat ze ontstaan. Het vereist strategisch denken - geduld om situaties volledig te begrijpen en de meest efficiënte weg voorwaarts te identificeren. Excellentie betekent voorwaarden creëren waarin positieve resultaten vrijwel gegarandeerd zijn. Het prioriteert intelligente oplossingen boven krachtige, waarbij maximale impact wordt bereikt met minimale inspanning. De ultieme excellentie is het bereiken van belangrijke doelen op manieren die natuurlijk en onvermijdelijk lijken voor anderen, zonder onnodige strijd of conflict. Het is meesterschap zo compleet dat de inspanning erachter onzichtbaar wordt.\n",
       "</response>"
      ],
      "text/plain": [
       "<IPython.core.display.Markdown object>"
      ]
     },
     "metadata": {},
     "output_type": "display_data"
    }
   ],
   "source": [
    "display(Markdown(f\"**AI Message Content:**\\n\\n{ai_message_content}\"))"
   ]
  },
  {
   "cell_type": "markdown",
   "id": "9b39edce922b83c4",
   "metadata": {},
   "source": [
    "---\n",
    "### Ollama ReACT RAG Agent"
   ]
  },
  {
   "cell_type": "code",
   "execution_count": 12,
   "id": "9933d12b5bffa7e0",
   "metadata": {
    "ExecuteTime": {
     "end_time": "2025-08-31T08:00:59.937674Z",
     "start_time": "2025-08-31T08:00:59.826482Z"
    }
   },
   "outputs": [],
   "source": [
    "# Create Workflow\n",
    "\n",
    "ollama_agent = experiment_utils.create_ollama_agent(\n",
    "    agent_type=\"react_rag\", llm_tag=\"gpt-oss:latest\",\n",
    "    ollama_endpoint=os.getenv(\"OLLAMA_ENDPOINT\"),\n",
    ")\n",
    "ollama_agent_config = {\n",
    "    \"configurable\": {\n",
    "        \"thread_id\": ollama_agent[\"id\"],\n",
    "    },\n",
    "    \"recursion_limit\": 30,\n",
    "}\n",
    "ollama_react_rag_agent = container.react_rag_agent()\n",
    "ollama_workflow = ollama_react_rag_agent.get_workflow(ollama_agent[\"id\"],schema=\"public\")"
   ]
  },
  {
   "cell_type": "code",
   "execution_count": 13,
   "id": "4fb83bacae56afea",
   "metadata": {
    "ExecuteTime": {
     "end_time": "2025-08-31T08:01:34.360471Z",
     "start_time": "2025-08-31T08:00:59.941678Z"
    }
   },
   "outputs": [],
   "source": [
    "%%capture\n",
    "\n",
    "message = MessageRequest(\n",
    "    message_role=\"human\",\n",
    "    message_content=\"What is the pinnacle of excellence?\",\n",
    "    agent_id=ollama_agent[\"id\"],\n",
    ")\n",
    "\n",
    "inputs = ollama_react_rag_agent.get_input_params(message, schema=\"public\")\n",
    "result = ollama_workflow.invoke(inputs, ollama_agent_config)\n",
    "ai_message_content, workflow_state = ollama_react_rag_agent.format_response(result)"
   ]
  },
  {
   "cell_type": "code",
   "execution_count": 14,
   "id": "b8deeaab02e2883f",
   "metadata": {
    "ExecuteTime": {
     "end_time": "2025-08-31T08:01:34.413421Z",
     "start_time": "2025-08-31T08:01:34.410687Z"
    }
   },
   "outputs": [
    {
     "data": {
      "text/markdown": [
       "**AI Message Content:**\n",
       "\n",
       "<thinking<|message|>We need to answer the abstract question “What is the pinnacle of excellence?” The user has supplied a rich set of quotations about military strategy, but they explicitly do not want us to refer to that context. The answer should therefore encapsulate the essence of those ideas: supreme excellence is not simply victory or sheer force but achieving desired ends through wisdom, foresight, secrecy, and moral discipline, thereby preventing conflict or winning without bloodshed. It also includes the virtues a leader must possess. The answer should be clear, insightful, and concise, avoiding any mention of the supplied context.The highest form of excellence is the ability to secure your goals without resorting to open conflict—achieving victory by pre‑empting and outmaneuvering the opposition before hostilities even begin. It is the mastery of strategy that turns an enemy’s plans into obstacles, the use of secrecy and deception to disrupt intentions, and the disciplined application of moral law and rigorous preparation that leaves no room for error. A commander who embodies wisdom, sincerity, benevolence, courage, and strictness turns potential warfare into a pre‑emptive triumph, proving that the greatest triumph is one won without a drop of blood."
      ],
      "text/plain": [
       "<IPython.core.display.Markdown object>"
      ]
     },
     "metadata": {},
     "output_type": "display_data"
    }
   ],
   "source": [
    "display(Markdown(f\"**AI Message Content:**\\n\\n{ai_message_content}\"))"
   ]
  },
  {
   "cell_type": "code",
   "execution_count": 15,
   "id": "d52e019d7f8aaa6d",
   "metadata": {
    "ExecuteTime": {
     "end_time": "2025-08-31T08:02:03.193325Z",
     "start_time": "2025-08-31T08:01:34.422869Z"
    }
   },
   "outputs": [],
   "source": [
    "%%capture\n",
    "\n",
    "message = MessageRequest(\n",
    "    message_role=\"human\",\n",
    "    message_content=\"Kun je mijn vorige vraag en jouw antwoord herhalen in Nederlands alstublieft? Gebruik maximaal tien zinnen.\",\n",
    "    agent_id=ollama_agent[\"id\"],\n",
    ")\n",
    "\n",
    "inputs = ollama_react_rag_agent.get_input_params(message, schema=\"public\")\n",
    "result = ollama_workflow.invoke(inputs, ollama_agent_config)\n",
    "ai_message_content, workflow_state = ollama_react_rag_agent.format_response(result)"
   ]
  },
  {
   "cell_type": "code",
   "execution_count": 16,
   "id": "575f116348c78482",
   "metadata": {
    "ExecuteTime": {
     "end_time": "2025-08-31T08:02:03.232211Z",
     "start_time": "2025-08-31T08:02:03.224367Z"
    }
   },
   "outputs": [
    {
     "data": {
      "text/markdown": [
       "**AI Message Content:**\n",
       "\n",
       "<thinking<|message|>We need to answer: repeat the previous question and my answer in Dutch, using no more than ten sentences. We’ll provide the question in Dutch, then an answer of about five to six sentences, totaling under ten.Wat is het toppunt van uitmuntendheid?  \n",
       "\n",
       "Het toppunt van uitmuntendheid is het bereiken van je doelen zonder openlijke strijd.  \n",
       "Het is het beheersen van een strategie die de plannen van de tegenstander ondermijnt voordat de confrontatie begint.  \n",
       "Dit vereist wijsheid, eerlijkheid, barmhartigheid, moed en strikte discipline.  \n",
       "Een leider die deze waarden omarmt zet de uitkomst in zijn voordeel door voor te zijn, te verbergen en te balanceren.  \n",
       "Zo ontstaat een situatie waarin de overwinning al bereikt is voordat er bloed geschud hoeft te worden.  \n",
       "Het grootste triomf is dan een overwinning zonder strijd, bereikt door sluwheid en voorbereiding."
      ],
      "text/plain": [
       "<IPython.core.display.Markdown object>"
      ]
     },
     "metadata": {},
     "output_type": "display_data"
    }
   ],
   "source": [
    "display(Markdown(f\"**AI Message Content:**\\n\\n{ai_message_content}\"))"
   ]
  },
  {
   "cell_type": "markdown",
   "id": "16b516e07963b8fb",
   "metadata": {},
   "source": [
    "---\n",
    "### OpenAI ReACT RAG Agent"
   ]
  },
  {
   "cell_type": "code",
   "execution_count": 17,
   "id": "c6708acc32708bde",
   "metadata": {
    "ExecuteTime": {
     "end_time": "2025-08-31T08:02:03.474331Z",
     "start_time": "2025-08-31T08:02:03.261813Z"
    }
   },
   "outputs": [],
   "source": [
    "# Create Workflow\n",
    "\n",
    "openai_agent = experiment_utils.create_openai_agent(\n",
    "    agent_type=\"react_rag\", llm_tag=\"gpt-5-nano\", api_key=os.getenv(\"OPENAI_API_KEY\")\n",
    ")\n",
    "openai_agent_config = {\n",
    "    \"configurable\": {\n",
    "        \"thread_id\": openai_agent[\"id\"],\n",
    "    },\n",
    "    \"recursion_limit\": 30,\n",
    "}\n",
    "openai_react_rag_agent = container.react_rag_agent()\n",
    "openai_workflow = openai_react_rag_agent.get_workflow(openai_agent[\"id\"],schema=\"public\")"
   ]
  },
  {
   "cell_type": "code",
   "execution_count": 18,
   "id": "e940604c92a9d8e8",
   "metadata": {
    "ExecuteTime": {
     "end_time": "2025-08-31T08:02:12.798282Z",
     "start_time": "2025-08-31T08:02:03.478934Z"
    }
   },
   "outputs": [],
   "source": [
    "%%capture\n",
    "\n",
    "message = MessageRequest(\n",
    "    message_role=\"human\",\n",
    "    message_content=\"What is the pinnacle of excellence?\",\n",
    "    agent_id=openai_agent[\"id\"],\n",
    ")\n",
    "\n",
    "inputs = openai_react_rag_agent.get_input_params(message, schema=\"public\")\n",
    "result = openai_workflow.invoke(inputs, openai_agent_config)\n",
    "ai_message_content, workflow_state = openai_react_rag_agent.format_response(result)"
   ]
  },
  {
   "cell_type": "code",
   "execution_count": 19,
   "id": "fcd8feb6ff1bc3e2",
   "metadata": {
    "ExecuteTime": {
     "end_time": "2025-08-31T08:02:12.824257Z",
     "start_time": "2025-08-31T08:02:12.821064Z"
    }
   },
   "outputs": [
    {
     "data": {
      "text/markdown": [
       "**AI Message Content:**\n",
       "\n",
       "<thinking>Plan: Condense the core idea from the passages into a clear, direct answer. Emphasize that the pinnacle is victory without fighting, achieved by breaking the enemy’s resistance through superior strategy and preparation, not by direct conflict.</thinking>\n",
       "<response>The pinnacle of excellence is to win without fighting. It means breaking the enemy’s resistance and foiling their plans so that the objective is achieved with minimal or no bloodshed. This is the highest form of strategy and leadership: deter or defeat the foe through superior preparation, timing, and positioning, rather than through brute force. In essence, supreme excellence lies in securing victory by outmaneuvering the opponent before battle even begins. If you’d like, I can relate this to a modern context like business, diplomacy, or sports. </response>"
      ],
      "text/plain": [
       "<IPython.core.display.Markdown object>"
      ]
     },
     "metadata": {},
     "output_type": "display_data"
    }
   ],
   "source": [
    "display(Markdown(f\"**AI Message Content:**\\n\\n{ai_message_content}\"))"
   ]
  },
  {
   "cell_type": "code",
   "execution_count": 20,
   "id": "abce7abc2a1bb4ce",
   "metadata": {
    "ExecuteTime": {
     "end_time": "2025-08-31T08:02:26.332694Z",
     "start_time": "2025-08-31T08:02:12.830519Z"
    }
   },
   "outputs": [],
   "source": [
    "%%capture\n",
    "\n",
    "message = MessageRequest(\n",
    "    message_role=\"human\",\n",
    "    message_content=\"Kun je mijn vorige vraag en jouw antwoord herhalen in Nederlands alstublieft? Gebruik maximaal tien zinnen.\",\n",
    "    agent_id=openai_agent[\"id\"],\n",
    ")\n",
    "\n",
    "inputs = openai_react_rag_agent.get_input_params(message, schema=\"public\")\n",
    "result = openai_workflow.invoke(inputs, openai_agent_config)\n",
    "ai_message_content, workflow_state = openai_react_rag_agent.format_response(result)"
   ]
  },
  {
   "cell_type": "code",
   "execution_count": 21,
   "id": "12bc66970609acf6",
   "metadata": {
    "ExecuteTime": {
     "end_time": "2025-08-31T08:02:26.356554Z",
     "start_time": "2025-08-31T08:02:26.352365Z"
    }
   },
   "outputs": [
    {
     "data": {
      "text/markdown": [
       "**AI Message Content:**\n",
       "\n",
       "<thinking>Begrijp de vraag: vertaal de vorige vraag en het antwoord naar het Nederlands en houd het kort.</thinking>\n",
       "<response>Vraag (in het Nederlands): Wat is het toppunt van uitmuntendheid? Antwoord (in het Nederlands): Het toppunt van uitmuntendheid is om te winnen zonder te vechten. Het betekent de weerstand van de vijand te breken en hun plannen dwars te zitten, zodat het doel met weinig of geen bloedvergieten wordt bereikt. Dit is de hoogste vorm van strategie en leiderschap: de tegenstander afschrikken of verslaan door superieure voorbereiding, timing en positionering, in plaats van door brute kracht. In wezen ligt het summum van uitmuntendheid in het bereiken van de overwinning door de tegenstander al voor het gevecht uit te manoeuvreren. Als je wilt, kan ik dit toelichten aan een moderne context zoals zaken, diplomatie of sport.</response>"
      ],
      "text/plain": [
       "<IPython.core.display.Markdown object>"
      ]
     },
     "metadata": {},
     "output_type": "display_data"
    }
   ],
   "source": [
    "display(Markdown(f\"**AI Message Content:**\\n\\n{ai_message_content}\"))"
   ]
  },
  {
   "cell_type": "code",
   "execution_count": null,
   "id": "48578e25f2c9556c",
   "metadata": {
    "ExecuteTime": {
     "end_time": "2025-08-31T08:02:26.364678Z",
     "start_time": "2025-08-31T08:02:26.362421Z"
    }
   },
   "outputs": [],
   "source": []
  }
 ],
 "metadata": {
  "kernelspec": {
   "display_name": "Python 3 (ipykernel)",
   "language": "python",
   "name": "python3"
  },
  "language_info": {
   "codemirror_mode": {
    "name": "ipython",
    "version": 3
   },
   "file_extension": ".py",
   "mimetype": "text/x-python",
   "name": "python",
   "nbconvert_exporter": "python",
   "pygments_lexer": "ipython3",
   "version": "3.12.11"
  }
 },
 "nbformat": 4,
 "nbformat_minor": 5
}
