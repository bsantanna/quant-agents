{
 "cells": [
  {
   "metadata": {
    "ExecuteTime": {
     "end_time": "2025-10-23T11:56:44.119915Z",
     "start_time": "2025-10-23T11:56:43.865927Z"
    }
   },
   "cell_type": "code",
   "source": [
    "import os\n",
    "import requests\n",
    "import json\n",
    "import pandas as pd\n",
    "from datetime import datetime\n",
    "from dotenv import load_dotenv\n",
    "from requests import Response\n",
    "\n",
    "os.chdir(\"..\")\n",
    "load_dotenv()"
   ],
   "id": "f4d30828b33c3349",
   "outputs": [
    {
     "data": {
      "text/plain": [
       "True"
      ]
     },
     "execution_count": 1,
     "metadata": {},
     "output_type": "execute_result"
    }
   ],
   "execution_count": 1
  },
  {
   "metadata": {
    "ExecuteTime": {
     "end_time": "2025-10-23T11:56:44.308406Z",
     "start_time": "2025-10-23T11:56:44.304329Z"
    }
   },
   "cell_type": "code",
   "source": [
    "def format_bulk_stocks_eod(ticker: str, df: pd.DataFrame) -> bytes:\n",
    "    today = datetime.now().strftime('%Y-%m-%d')\n",
    "    index_name = f\"quant-agents_stocks-eod_{today}\"\n",
    "    lines = []\n",
    "\n",
    "    for _, row in df.iterrows():\n",
    "\n",
    "        date_reference = row.get('timestamp')\n",
    "        open_ = row.get('open')\n",
    "        close = row.get('close')\n",
    "        high = row.get('high')\n",
    "        low = row.get('low')\n",
    "        volume = row.get('volume')\n",
    "\n",
    "        if open_ is None or close is None:\n",
    "            continue\n",
    "        id_str = f\"{ticker}_{str(date_reference)}\"\n",
    "\n",
    "        meta = {\"index\": {\"_index\": index_name, \"_id\": id_str}}\n",
    "\n",
    "        doc = {\n",
    "            \"key_ticker\": ticker,\n",
    "            \"date_reference\": date_reference,\n",
    "            \"val_open\": float(open_),\n",
    "            \"val_close\": float(close) if close is not None else None,\n",
    "            \"val_high\": float(high) if high is not None else None,\n",
    "            \"val_low\": float(low) if low is not None else None,\n",
    "            \"val_volume\": int(volume) if volume is not None else None,\n",
    "        }\n",
    "\n",
    "        lines.append(json.dumps(meta))\n",
    "        lines.append(json.dumps(doc))\n",
    "\n",
    "    return ((\"\\n\".join(lines)) + \"\\n\").encode(\"utf-8\")\n",
    "\n",
    "def ingest_stocks_eod(ticker: str) -> Response:\n",
    "    es_url = os.environ.get('ELASTICSEARCH_URL')\n",
    "    es_api_key = os.environ.get('ELASTICSEARCH_API_KEY')\n",
    "    alpha_vantage_api_key = os.environ.get('ALPHAVANTAGE_API_KEY')\n",
    "    alpha_vantage_time_series_url = f\"https://www.alphavantage.co/query?function=TIME_SERIES_DAILY&symbol={ticker}&apikey={alpha_vantage_api_key}&datatype=csv\"\n",
    "\n",
    "    ticker_daily_time_series = pd.read_csv(alpha_vantage_time_series_url)\n",
    "\n",
    "    return requests.post(\n",
    "        url=f\"{es_url}/_bulk\",\n",
    "        headers={\n",
    "            'Authorization': f'ApiKey {es_api_key}',\n",
    "            'Content-Type': 'application/x-ndjson'\n",
    "        },\n",
    "        data=format_bulk_stocks_eod(ticker, ticker_daily_time_series)\n",
    "    )\n"
   ],
   "id": "e32e5dd885a77834",
   "outputs": [],
   "execution_count": 2
  },
  {
   "metadata": {
    "ExecuteTime": {
     "end_time": "2025-10-23T12:01:42.471539Z",
     "start_time": "2025-10-23T12:01:42.255959Z"
    }
   },
   "cell_type": "code",
   "source": [
    "stocks_eod_response = ingest_stocks_eod(\"NVDA\")\n",
    "print(f\"Stocks EOD ingestion complete with errors: {stocks_eod_response.json().get('errors')}\")"
   ],
   "id": "b5a16372797e03e6",
   "outputs": [
    {
     "name": "stdout",
     "output_type": "stream",
     "text": [
      "Stocks EOD ingestion complete with errors: False\n"
     ]
    }
   ],
   "execution_count": 6
  },
  {
   "metadata": {
    "ExecuteTime": {
     "end_time": "2025-10-23T12:27:50.737025Z",
     "start_time": "2025-10-23T12:27:50.730507Z"
    }
   },
   "cell_type": "code",
   "source": [
    "def format_bulk_stocks_insider_trades(ticker: str, df: pd.DataFrame) -> bytes:\n",
    "    today = datetime.now().strftime('%Y-%m-%d')\n",
    "    index_name = f\"quant-agents_stocks-insider-trades_{today}\"\n",
    "    lines = []\n",
    "\n",
    "    for _, row in df.iterrows():\n",
    "\n",
    "        date_reference = row.get('transaction_date')\n",
    "        executive = row.get('executive')\n",
    "        executive_title = row.get('executive_title')\n",
    "        acquisition_or_disposal = row.get('acquisition_or_disposal')\n",
    "        shares= row.get('shares')\n",
    "        share_price = row.get('share_price')\n",
    "\n",
    "        if open_ is None or close is None:\n",
    "            continue\n",
    "        id_str = f\"{ticker}_{str(date_reference)}\"\n",
    "\n",
    "        meta = {\"index\": {\"_index\": index_name, \"_id\": id_str}}\n",
    "\n",
    "        doc = {\n",
    "            \"key_ticker\": ticker,\n",
    "            \"date_reference\": date_reference,\n",
    "            \"val_open\": float(open_),\n",
    "            \"val_close\": float(close) if close is not None else None,\n",
    "            \"val_high\": float(high) if high is not None else None,\n",
    "            \"val_low\": float(low) if low is not None else None,\n",
    "            \"val_volume\": int(volume) if volume is not None else None,\n",
    "        }\n",
    "\n",
    "        lines.append(json.dumps(meta))\n",
    "        lines.append(json.dumps(doc))\n",
    "\n",
    "    return ((\"\\n\".join(lines)) + \"\\n\").encode(\"utf-8\")\n",
    "\n",
    "def ingest_stocks_insider_trades(ticker: str) -> Response:\n",
    "    es_url = os.environ.get('ELASTICSEARCH_URL')\n",
    "    es_api_key = os.environ.get('ELASTICSEARCH_API_KEY')\n",
    "    alpha_vantage_api_key = os.environ.get('ALPHAVANTAGE_API_KEY')\n",
    "    alpha_vantage_insider_trades_url = f\"https://www.alphavantage.co/query?function=INSIDER_TRANSACTIONS&symbol={ticker}&apikey={alpha_vantage_api_key}\"\n",
    "\n",
    "    ticker_insider_trades_data = requests.get(alpha_vantage_insider_trades_url).json()\n",
    "    df = pd.json_normalize(ticker_insider_trades_data['data'])\n",
    "    df[\"transaction_date\"] = pd.to_datetime(df[\"transaction_date\"], errors='coerce')\n",
    "    cutoff = pd.Timestamp.now() - pd.Timedelta(days=100)\n",
    "    ticker_recent_insider_trades = df[df[\"transaction_date\"] >= cutoff].reset_index(drop=True)\n",
    "\n",
    "    return requests.post(\n",
    "        url=f\"{es_url}/_bulk\",\n",
    "        headers={\n",
    "            'Authorization': f'ApiKey {es_api_key}',\n",
    "            'Content-Type': 'application/x-ndjson'\n",
    "        },\n",
    "        data=format_bulk_stocks_insider_trades(ticker, ticker_recent_insider_trades)\n",
    "    )"
   ],
   "id": "47a66748b4801423",
   "outputs": [],
   "execution_count": 22
  },
  {
   "metadata": {
    "ExecuteTime": {
     "end_time": "2025-10-23T12:27:52.498040Z",
     "start_time": "2025-10-23T12:27:51.458235Z"
    }
   },
   "cell_type": "code",
   "source": "",
   "id": "fe01c2bb90d0f5c7",
   "outputs": [
    {
     "name": "stdout",
     "output_type": "stream",
     "text": [
      "Stocks insider trades ingestion complete with errors: False\n"
     ]
    }
   ],
   "execution_count": null
  }
 ],
 "metadata": {
  "kernelspec": {
   "display_name": "Python 3",
   "language": "python",
   "name": "python3"
  },
  "language_info": {
   "codemirror_mode": {
    "name": "ipython",
    "version": 2
   },
   "file_extension": ".py",
   "mimetype": "text/x-python",
   "name": "python",
   "nbconvert_exporter": "python",
   "pygments_lexer": "ipython2",
   "version": "2.7.6"
  }
 },
 "nbformat": 4,
 "nbformat_minor": 5
}
