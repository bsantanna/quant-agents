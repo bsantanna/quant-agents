{
 "cells": [
  {
   "metadata": {
    "ExecuteTime": {
     "end_time": "2025-10-23T15:04:08.974223Z",
     "start_time": "2025-10-23T15:04:08.693477Z"
    }
   },
   "cell_type": "code",
   "source": [
    "import os\n",
    "import requests\n",
    "import json\n",
    "import pandas as pd\n",
    "from datetime import datetime\n",
    "from dotenv import load_dotenv\n",
    "from requests import Response\n",
    "\n",
    "os.chdir(\"..\")\n",
    "load_dotenv()"
   ],
   "id": "f4d30828b33c3349",
   "outputs": [
    {
     "data": {
      "text/plain": [
       "True"
      ]
     },
     "execution_count": 1,
     "metadata": {},
     "output_type": "execute_result"
    }
   ],
   "execution_count": 1
  },
  {
   "metadata": {
    "ExecuteTime": {
     "end_time": "2025-10-23T15:04:09.930146Z",
     "start_time": "2025-10-23T15:04:09.925328Z"
    }
   },
   "cell_type": "code",
   "source": [
    "def format_bulk_stocks_eod(ticker: str, df: pd.DataFrame) -> bytes:\n",
    "    today = datetime.now().strftime('%Y-%m-%d')\n",
    "    index_name = f\"quant-agents_stocks-eod_{today}\"\n",
    "    lines = []\n",
    "\n",
    "    for _, row in df.iterrows():\n",
    "\n",
    "        date_reference = row.get('timestamp')\n",
    "        open_ = row.get('open')\n",
    "        close = row.get('close')\n",
    "        high = row.get('high')\n",
    "        low = row.get('low')\n",
    "        volume = row.get('volume')\n",
    "\n",
    "        if open_ is None or close is None:\n",
    "            continue\n",
    "        id_str = f\"{ticker}_{str(date_reference)}\"\n",
    "\n",
    "        meta = {\"index\": {\"_index\": index_name, \"_id\": id_str}}\n",
    "\n",
    "        doc = {\n",
    "            \"key_ticker\": ticker,\n",
    "            \"date_reference\": date_reference,\n",
    "            \"val_open\": float(open_),\n",
    "            \"val_close\": float(close) if close is not None else None,\n",
    "            \"val_high\": float(high) if high is not None else None,\n",
    "            \"val_low\": float(low) if low is not None else None,\n",
    "            \"val_volume\": int(volume) if volume is not None else None,\n",
    "        }\n",
    "\n",
    "        lines.append(json.dumps(meta))\n",
    "        lines.append(json.dumps(doc))\n",
    "\n",
    "    return ((\"\\n\".join(lines)) + \"\\n\").encode(\"utf-8\")\n",
    "\n",
    "def ingest_stocks_eod(ticker: str) -> Response:\n",
    "    es_url = os.environ.get('ELASTICSEARCH_URL')\n",
    "    es_api_key = os.environ.get('ELASTICSEARCH_API_KEY')\n",
    "    alpha_vantage_api_key = os.environ.get('ALPHAVANTAGE_API_KEY')\n",
    "    alpha_vantage_time_series_url = f\"https://www.alphavantage.co/query?function=TIME_SERIES_DAILY&symbol={ticker}&apikey={alpha_vantage_api_key}&datatype=csv\"\n",
    "\n",
    "    ticker_daily_time_series = pd.read_csv(alpha_vantage_time_series_url)\n",
    "\n",
    "    return requests.post(\n",
    "        url=f\"{es_url}/_bulk\",\n",
    "        headers={\n",
    "            'Authorization': f'ApiKey {es_api_key}',\n",
    "            'Content-Type': 'application/x-ndjson'\n",
    "        },\n",
    "        data=format_bulk_stocks_eod(ticker, ticker_daily_time_series)\n",
    "    )\n"
   ],
   "id": "e32e5dd885a77834",
   "outputs": [],
   "execution_count": 2
  },
  {
   "metadata": {
    "ExecuteTime": {
     "end_time": "2025-10-23T15:04:12.130855Z",
     "start_time": "2025-10-23T15:04:10.888292Z"
    }
   },
   "cell_type": "code",
   "source": [
    "stocks_eod_response = ingest_stocks_eod(\"IBM\")\n",
    "print(f\"Stocks EOD ingestion complete with errors: {stocks_eod_response.json().get('errors')}\")"
   ],
   "id": "b5a16372797e03e6",
   "outputs": [
    {
     "name": "stdout",
     "output_type": "stream",
     "text": [
      "Stocks EOD ingestion complete with errors: False\n"
     ]
    }
   ],
   "execution_count": 3
  },
  {
   "metadata": {
    "ExecuteTime": {
     "end_time": "2025-10-23T15:04:14.230658Z",
     "start_time": "2025-10-23T15:04:14.223893Z"
    }
   },
   "cell_type": "code",
   "source": [
    "def format_bulk_stocks_insider_trades(ticker: str, df: pd.DataFrame) -> bytes:\n",
    "    today = datetime.now().strftime('%Y-%m-%d')\n",
    "    index_name = f\"quant-agents_stocks-insider-trades_{today}\"\n",
    "    lines = []\n",
    "\n",
    "    for _, row in df.iterrows():\n",
    "\n",
    "        date_reference = row.get('transaction_date')\n",
    "        executive = row.get('executive')\n",
    "        executive_title = row.get('executive_title')\n",
    "        acquisition_or_disposal = row.get('acquisition_or_disposal')\n",
    "        shares= row.get('shares')\n",
    "        share_price = row.get('share_price')\n",
    "\n",
    "        id_str = f\"{ticker}_{str(date_reference)}\"\n",
    "\n",
    "        meta = {\"index\": {\"_index\": index_name, \"_id\": id_str}}\n",
    "\n",
    "        doc = {\n",
    "            \"key_ticker\": ticker,\n",
    "            \"date_reference\": date_reference.strftime('%Y-%m-%d'),\n",
    "            \"text_executive_name\": executive,\n",
    "            \"text_executive_title\": executive_title,\n",
    "            \"key_acquisition_disposal\": acquisition_or_disposal,\n",
    "            \"val_share_quantity\": float(shares),\n",
    "            \"val_share_price\": float(share_price)\n",
    "        }\n",
    "\n",
    "        lines.append(json.dumps(meta))\n",
    "        lines.append(json.dumps(doc))\n",
    "\n",
    "    return ((\"\\n\".join(lines)) + \"\\n\").encode(\"utf-8\")\n",
    "\n",
    "def ingest_stocks_insider_trades(ticker: str, cutoff_days=100) -> Response:\n",
    "    es_url = os.environ.get('ELASTICSEARCH_URL')\n",
    "    es_api_key = os.environ.get('ELASTICSEARCH_API_KEY')\n",
    "    alpha_vantage_api_key = os.environ.get('ALPHAVANTAGE_API_KEY')\n",
    "    alpha_vantage_insider_trades_url = f\"https://www.alphavantage.co/query?function=INSIDER_TRANSACTIONS&symbol={ticker}&apikey={alpha_vantage_api_key}\"\n",
    "\n",
    "    ticker_insider_trades_data = requests.get(alpha_vantage_insider_trades_url).json()\n",
    "    df = pd.json_normalize(ticker_insider_trades_data['data'])\n",
    "    df[\"transaction_date\"] = pd.to_datetime(df[\"transaction_date\"], errors='coerce')\n",
    "    cutoff = pd.Timestamp.now() - pd.Timedelta(days=cutoff_days)\n",
    "    ticker_recent_insider_trades = df[df[\"transaction_date\"] >= cutoff].reset_index(drop=True)\n",
    "\n",
    "    return requests.post(\n",
    "        url=f\"{es_url}/_bulk\",\n",
    "        headers={\n",
    "            'Authorization': f'ApiKey {es_api_key}',\n",
    "            'Content-Type': 'application/x-ndjson'\n",
    "        },\n",
    "        data=format_bulk_stocks_insider_trades(ticker, ticker_recent_insider_trades)\n",
    "    )"
   ],
   "id": "47a66748b4801423",
   "outputs": [],
   "execution_count": 4
  },
  {
   "metadata": {
    "ExecuteTime": {
     "end_time": "2025-10-23T15:04:16.630044Z",
     "start_time": "2025-10-23T15:04:15.771181Z"
    }
   },
   "cell_type": "code",
   "source": [
    "stocks_insider_trades_response = ingest_stocks_insider_trades(\"IBM\")\n",
    "print(f\"Stocks insider trades ingestion complete with errors: {stocks_insider_trades_response.json().get('errors')}\")"
   ],
   "id": "fe01c2bb90d0f5c7",
   "outputs": [
    {
     "name": "stdout",
     "output_type": "stream",
     "text": [
      "Stocks insider trades ingestion complete with errors: False\n"
     ]
    }
   ],
   "execution_count": 5
  },
  {
   "metadata": {
    "ExecuteTime": {
     "end_time": "2025-10-23T15:04:17.650282Z",
     "start_time": "2025-10-23T15:04:17.636790Z"
    }
   },
   "cell_type": "code",
   "source": [
    "def format_bulk_stocks_metadata(ticker: str, df: pd.DataFrame) -> bytes:\n",
    "    import json\n",
    "    today = datetime.now().strftime('%Y-%m-%d')\n",
    "    index_name = f\"quant-agents_stocks-metadata_{today}\"\n",
    "    lines = []\n",
    "\n",
    "    for _, row in df.iterrows():\n",
    "        # canonical values, accept multiple key variants\n",
    "        symbol = row.get('Symbol') or ticker\n",
    "        asset_type = row.get('AssetType')\n",
    "        name = row.get('Name')\n",
    "        description = row.get('Description')\n",
    "        cik = row.get('CIK')\n",
    "        exchange = row.get('Exchange')\n",
    "        currency = row.get('Currency')\n",
    "        country = row.get('Country')\n",
    "        sector = row.get('Sector')\n",
    "        industry = row.get('Industry')\n",
    "        address = row.get('Address')\n",
    "        official_site = row.get('OfficialSite')\n",
    "        fiscal_year_end = row.get('FiscalYearEnd')\n",
    "\n",
    "        latest_quarter = row.get('LatestQuarter')\n",
    "        dividend_date = row.get('DividendDate')\n",
    "        ex_dividend_date = row.get('ExDividendDate')\n",
    "\n",
    "        # numeric conversions\n",
    "        market_capitalization = int(row.get('MarketCapitalization'))\n",
    "        ebitda = int(row.get('EBITDA'))\n",
    "        pe_ratio = float(row.get('PERatio'))\n",
    "        peg_ratio = float(row.get('PEGRatio'))\n",
    "        book_value = float(row.get('BookValue'))\n",
    "        dividend_per_share = float(row.get('DividendPerShare'))\n",
    "        dividend_yield = float(row.get('DividendYield'))\n",
    "        eps = float(row.get('EPS'))\n",
    "        revenue_per_share_ttm = float(row.get('RevenuePerShareTTM'))\n",
    "        profit_margin = float(row.get('ProfitMargin'))\n",
    "        operating_margin_ttm = float(row.get('OperatingMarginTTM'))\n",
    "        return_on_assets_ttm = float(row.get('ReturnOnAssetsTTM'))\n",
    "        return_on_equity_ttm = float(row.get('ReturnOnEquityTTM'))\n",
    "\n",
    "        revenue_ttm = int(row.get('RevenueTTM'))\n",
    "        gross_profit_ttm = int(row.get('GrossProfitTTM'))\n",
    "        diluted_eps_ttm = float(row.get('DilutedEPSTTM'))\n",
    "\n",
    "        quarterly_earnings_growth_yoy = float(row.get('QuarterlyEarningsGrowthYOY'))\n",
    "        quarterly_revenue_growth_yoy = float(row.get('QuarterlyRevenueGrowthYOY'))\n",
    "\n",
    "        analyst_target_price = float(row.get('AnalystTargetPrice'))\n",
    "        analyst_rating_strong_buy = int(row.get('AnalystRatingStrongBuy'))\n",
    "        analyst_rating_buy = int(row.get('AnalystRatingBuy'))\n",
    "        analyst_rating_hold = int(row.get('AnalystRatingHold'))\n",
    "        analyst_rating_sell = int(row.get('AnalystRatingSell'))\n",
    "        analyst_rating_strong_sell = int(row.get('AnalystRatingStrongSell'))\n",
    "\n",
    "        trailing_pe = float(row.get('TrailingPE'))\n",
    "        forward_pe = float(row.get('ForwardPE'))\n",
    "        price_to_sales_ratio_ttm = float(row.get('PriceToSalesRatioTTM'))\n",
    "        price_to_book_ratio = float(row.get('PriceToBookRatio'))\n",
    "        ev_to_revenue = float(row.get('EVToRevenue'))\n",
    "        ev_to_ebitda = float(row.get('EVToEBITDA'))\n",
    "        beta = float(row.get('Beta'))\n",
    "\n",
    "        week_52_high = float(row.get('52WeekHigh'))\n",
    "        week_52_low = float(row.get('52WeekLow'))\n",
    "        moving_average_50_day = float(row.get('50DayMovingAverage'))\n",
    "        moving_average_200_day = float(row.get('200DayMovingAverage'))\n",
    "\n",
    "        shares_outstanding = int(row.get('SharesOutstanding'))\n",
    "        shares_float = int(row.get('SharesFloat'))\n",
    "        percent_insiders = float(row.get('PercentInsiders'))\n",
    "        percent_institutions = float(row.get('PercentInstitutions'))\n",
    "\n",
    "        # build id using symbol and latest_quarter or today\n",
    "        id_suffix = latest_quarter or today\n",
    "        id_str = f\"{symbol}_{id_suffix}\"\n",
    "\n",
    "        meta = {\"index\": {\"_index\": index_name, \"_id\": id_str}}\n",
    "\n",
    "        doc = {\n",
    "            \"key_ticker\": symbol,\n",
    "            \"asset_type\": asset_type,\n",
    "            \"name\": name,\n",
    "            \"description\": description,\n",
    "            \"cik\": cik,\n",
    "            \"exchange\": exchange,\n",
    "            \"currency\": currency,\n",
    "            \"country\": country,\n",
    "            \"sector\": sector,\n",
    "            \"industry\": industry,\n",
    "            \"address\": address,\n",
    "            \"official_site\": official_site,\n",
    "            \"fiscal_year_end\": fiscal_year_end,\n",
    "            \"latest_quarter\": latest_quarter,\n",
    "            \"market_capitalization\": market_capitalization,\n",
    "            \"ebitda\": ebitda,\n",
    "            \"pe_ratio\": pe_ratio,\n",
    "            \"peg_ratio\": peg_ratio,\n",
    "            \"book_value\": book_value,\n",
    "            \"dividend_per_share\": dividend_per_share,\n",
    "            \"dividend_yield\": dividend_yield,\n",
    "            \"eps\": eps,\n",
    "            \"revenue_per_share_ttm\": revenue_per_share_ttm,\n",
    "            \"profit_margin\": profit_margin,\n",
    "            \"operating_margin_ttm\": operating_margin_ttm,\n",
    "            \"return_on_assets_ttm\": return_on_assets_ttm,\n",
    "            \"return_on_equity_ttm\": return_on_equity_ttm,\n",
    "            \"revenue_ttm\": revenue_ttm,\n",
    "            \"gross_profit_ttm\": gross_profit_ttm,\n",
    "            \"diluted_eps_ttm\": diluted_eps_ttm,\n",
    "            \"quarterly_earnings_growth_yoy\": quarterly_earnings_growth_yoy,\n",
    "            \"quarterly_revenue_growth_yoy\": quarterly_revenue_growth_yoy,\n",
    "            \"analyst_target_price\": analyst_target_price,\n",
    "            \"analyst_rating_strong_buy\": analyst_rating_strong_buy,\n",
    "            \"analyst_rating_buy\": analyst_rating_buy,\n",
    "            \"analyst_rating_hold\": analyst_rating_hold,\n",
    "            \"analyst_rating_sell\": analyst_rating_sell,\n",
    "            \"analyst_rating_strong_sell\": analyst_rating_strong_sell,\n",
    "            \"trailing_pe\": trailing_pe,\n",
    "            \"forward_pe\": forward_pe,\n",
    "            \"price_to_sales_ratio_ttm\": price_to_sales_ratio_ttm,\n",
    "            \"price_to_book_ratio\": price_to_book_ratio,\n",
    "            \"ev_to_revenue\": ev_to_revenue,\n",
    "            \"ev_to_ebitda\": ev_to_ebitda,\n",
    "            \"beta\": beta,\n",
    "            \"week_52_high\": week_52_high,\n",
    "            \"week_52_low\": week_52_low,\n",
    "            \"moving_average_50_day\": moving_average_50_day,\n",
    "            \"moving_average_200_day\": moving_average_200_day,\n",
    "            \"shares_outstanding\": shares_outstanding,\n",
    "            \"shares_float\": shares_float,\n",
    "            \"percent_insiders\": percent_insiders,\n",
    "            \"percent_institutions\": percent_institutions,\n",
    "            \"dividend_date\": dividend_date,\n",
    "            \"ex_dividend_date\": ex_dividend_date,\n",
    "        }\n",
    "\n",
    "        lines.append(json.dumps(meta))\n",
    "        lines.append(json.dumps(doc))\n",
    "\n",
    "    return ((\"\\n\".join(lines)) + \"\\n\").encode(\"utf-8\")\n",
    "\n",
    "def ingest_stocks_metadata(ticker: str) -> Response:\n",
    "    es_url = os.environ.get('ELASTICSEARCH_URL')\n",
    "    es_api_key = os.environ.get('ELASTICSEARCH_API_KEY')\n",
    "    alpha_vantage_api_key = os.environ.get('ALPHAVANTAGE_API_KEY')\n",
    "    alpha_vantage_overview_url = f\"https://www.alphavantage.co/query?function=OVERVIEW&symbol={ticker}&apikey={alpha_vantage_api_key}\"\n",
    "\n",
    "    ticker_overview_data = requests.get(alpha_vantage_overview_url).json()\n",
    "    ticker_metadata = pd.json_normalize(ticker_overview_data)\n",
    "\n",
    "    return requests.post(\n",
    "        url=f\"{es_url}/_bulk\",\n",
    "        headers={\n",
    "            'Authorization': f'ApiKey {es_api_key}',\n",
    "            'Content-Type': 'application/x-ndjson'\n",
    "        },\n",
    "        data=format_bulk_stocks_metadata(ticker, ticker_metadata)\n",
    "    )"
   ],
   "id": "897ffe9131668278",
   "outputs": [],
   "execution_count": 6
  },
  {
   "metadata": {
    "ExecuteTime": {
     "end_time": "2025-10-23T15:04:18.988896Z",
     "start_time": "2025-10-23T15:04:18.661001Z"
    }
   },
   "cell_type": "code",
   "source": [
    "stocks_metadata_response = ingest_stocks_metadata(\"IBM\")\n",
    "print(f\"Stocks metadata ingestion complete with errors: {stocks_metadata_response.json().get('errors')}\")"
   ],
   "id": "65848796b2c40c40",
   "outputs": [
    {
     "name": "stdout",
     "output_type": "stream",
     "text": [
      "Stocks metadata ingestion complete with errors: False\n"
     ]
    }
   ],
   "execution_count": 7
  },
  {
   "metadata": {},
   "cell_type": "code",
   "outputs": [],
   "execution_count": null,
   "source": "",
   "id": "3fc5ca1f1491a980"
  },
  {
   "metadata": {},
   "cell_type": "code",
   "outputs": [],
   "execution_count": null,
   "source": "",
   "id": "402feca31acdd0ea"
  }
 ],
 "metadata": {
  "kernelspec": {
   "display_name": "Python 3",
   "language": "python",
   "name": "python3"
  },
  "language_info": {
   "codemirror_mode": {
    "name": "ipython",
    "version": 2
   },
   "file_extension": ".py",
   "mimetype": "text/x-python",
   "name": "python",
   "nbconvert_exporter": "python",
   "pygments_lexer": "ipython2",
   "version": "2.7.6"
  }
 },
 "nbformat": 4,
 "nbformat_minor": 5
}
