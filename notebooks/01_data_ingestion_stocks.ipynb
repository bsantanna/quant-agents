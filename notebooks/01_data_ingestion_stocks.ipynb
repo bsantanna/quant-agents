{
 "cells": [
  {
   "metadata": {
    "ExecuteTime": {
     "end_time": "2025-10-25T08:16:12.495954Z",
     "start_time": "2025-10-25T08:16:12.206174Z"
    }
   },
   "cell_type": "code",
   "source": [
    "import os\n",
    "from dotenv import load_dotenv\n",
    "\n",
    "os.chdir(\"..\")\n",
    "load_dotenv()\n",
    "\n",
    "from notebooks.data_ingestion_utils import (\n",
    "    ingest_stocks_eod,\n",
    "    ingest_stocks_insider_trades,\n",
    "    ingest_stocks_metadata,\n",
    "    ingest_stocks_fundamental_income_statement,\n",
    "    ingest_stocks_fundamental_balance_sheet,\n",
    "    ingest_stocks_fundamental_cash_flow,\n",
    "    ingest_stocks_fundamental_earnings_estimates,\n",
    ")\n"
   ],
   "id": "f4d30828b33c3349",
   "outputs": [],
   "execution_count": 1
  },
  {
   "metadata": {
    "ExecuteTime": {
     "end_time": "2025-10-25T08:16:12.743290Z",
     "start_time": "2025-10-25T08:16:12.510815Z"
    }
   },
   "cell_type": "code",
   "source": [
    "stocks_eod_response = ingest_stocks_eod(\"IBM\")\n",
    "print(f\"Stocks EOD ingestion complete with errors: {stocks_eod_response.json().get('errors')}\")"
   ],
   "id": "b5a16372797e03e6",
   "outputs": [
    {
     "name": "stdout",
     "output_type": "stream",
     "text": [
      "Stocks EOD ingestion complete with errors: False\n"
     ]
    }
   ],
   "execution_count": 2
  },
  {
   "metadata": {
    "ExecuteTime": {
     "end_time": "2025-10-25T08:16:13.720051Z",
     "start_time": "2025-10-25T08:16:12.756718Z"
    }
   },
   "cell_type": "code",
   "source": [
    "stocks_insider_trades_response = ingest_stocks_insider_trades(\"IBM\")\n",
    "print(f\"Stocks insider trades ingestion complete with errors: {stocks_insider_trades_response.json().get('errors')}\")"
   ],
   "id": "fe01c2bb90d0f5c7",
   "outputs": [
    {
     "name": "stdout",
     "output_type": "stream",
     "text": [
      "Stocks insider trades ingestion complete with errors: False\n"
     ]
    }
   ],
   "execution_count": 3
  },
  {
   "metadata": {
    "ExecuteTime": {
     "end_time": "2025-10-25T08:16:13.928945Z",
     "start_time": "2025-10-25T08:16:13.766303Z"
    }
   },
   "cell_type": "code",
   "source": [
    "stocks_metadata_response = ingest_stocks_metadata(\"IBM\")\n",
    "print(f\"Stocks metadata ingestion complete with errors: {stocks_metadata_response.json().get('errors')}\")"
   ],
   "id": "65848796b2c40c40",
   "outputs": [
    {
     "name": "stdout",
     "output_type": "stream",
     "text": [
      "Stocks metadata ingestion complete with errors: False\n"
     ]
    }
   ],
   "execution_count": 4
  },
  {
   "metadata": {
    "ExecuteTime": {
     "end_time": "2025-10-25T08:16:14.400981Z",
     "start_time": "2025-10-25T08:16:13.941690Z"
    }
   },
   "cell_type": "code",
   "source": [
    "stocks_fundamental_income_statement_response = ingest_stocks_fundamental_income_statement(\"IBM\")\n",
    "print(f\"Stocks fundamental income statement ingestion complete with errors: {stocks_fundamental_income_statement_response.json().get('errors')}\")"
   ],
   "id": "402feca31acdd0ea",
   "outputs": [
    {
     "name": "stdout",
     "output_type": "stream",
     "text": [
      "Stocks fundamental income statement ingestion complete with errors: False\n"
     ]
    }
   ],
   "execution_count": 5
  },
  {
   "metadata": {
    "ExecuteTime": {
     "end_time": "2025-10-25T08:16:14.691055Z",
     "start_time": "2025-10-25T08:16:14.408014Z"
    }
   },
   "cell_type": "code",
   "source": [
    "stocks_fundamental_balance_sheet_response = ingest_stocks_fundamental_balance_sheet(\"IBM\")\n",
    "print(f\"Stocks fundamental balance sheet ingestion complete with errors: {stocks_fundamental_balance_sheet_response.json().get('errors')}\")"
   ],
   "id": "7aad6d939f751c90",
   "outputs": [
    {
     "name": "stdout",
     "output_type": "stream",
     "text": [
      "Stocks fundamental balance sheet ingestion complete with errors: False\n"
     ]
    }
   ],
   "execution_count": 6
  },
  {
   "metadata": {
    "ExecuteTime": {
     "end_time": "2025-10-25T08:16:15.150761Z",
     "start_time": "2025-10-25T08:16:14.709107Z"
    }
   },
   "cell_type": "code",
   "source": [
    "stocks_fundamental_cash_flow_response = ingest_stocks_fundamental_cash_flow(\"IBM\")\n",
    "print(f\"Stocks fundamental cash flow ingestion complete with errors: {stocks_fundamental_cash_flow_response.json().get('errors')}\")"
   ],
   "id": "972e58ef309081f1",
   "outputs": [
    {
     "name": "stdout",
     "output_type": "stream",
     "text": [
      "Stocks fundamental cash flow ingestion complete with errors: False\n"
     ]
    }
   ],
   "execution_count": 7
  },
  {
   "metadata": {
    "ExecuteTime": {
     "end_time": "2025-10-25T08:16:15.485868Z",
     "start_time": "2025-10-25T08:16:15.168691Z"
    }
   },
   "cell_type": "code",
   "source": [
    "stocks_fundamental_earnings_estimates_response = ingest_stocks_fundamental_earnings_estimates(\"IBM\")\n",
    "print(f\"Stocks fundamental estimated earnings ingestion complete with errors: {stocks_fundamental_earnings_estimates_response.json().get('errors')}\")"
   ],
   "id": "88151c59b95be938",
   "outputs": [
    {
     "name": "stdout",
     "output_type": "stream",
     "text": [
      "Stocks fundamental estimated earnings ingestion complete with errors: False\n"
     ]
    }
   ],
   "execution_count": 8
  },
  {
   "metadata": {
    "ExecuteTime": {
     "end_time": "2025-10-25T08:16:15.491707Z",
     "start_time": "2025-10-25T08:16:15.490443Z"
    }
   },
   "cell_type": "code",
   "source": "",
   "id": "ec33a7c564c2f05",
   "outputs": [],
   "execution_count": null
  }
 ],
 "metadata": {
  "kernelspec": {
   "display_name": "Python 3",
   "language": "python",
   "name": "python3"
  },
  "language_info": {
   "codemirror_mode": {
    "name": "ipython",
    "version": 2
   },
   "file_extension": ".py",
   "mimetype": "text/x-python",
   "name": "python",
   "nbconvert_exporter": "python",
   "pygments_lexer": "ipython2",
   "version": "2.7.6"
  }
 },
 "nbformat": 4,
 "nbformat_minor": 5
}
