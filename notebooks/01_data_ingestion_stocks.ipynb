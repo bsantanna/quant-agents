{
 "cells": [
  {
   "cell_type": "code",
   "execution_count": null,
   "id": "f4d30828b33c3349",
   "metadata": {
    "ExecuteTime": {
     "end_time": "2025-10-25T08:16:12.495954Z",
     "start_time": "2025-10-25T08:16:12.206174Z"
    }
   },
   "outputs": [],
   "source": [
    "import os\n",
    "from dotenv import load_dotenv\n",
    "\n",
    "os.chdir(\"..\")\n",
    "load_dotenv()\n",
    "\n",
    "from app.utils.data_ingestion_utils import (\n",
    "    ingest_stocks_eod,\n",
    "    ingest_stocks_insider_trades,\n",
    "    ingest_stocks_metadata,\n",
    "    ingest_stocks_fundamental_income_statement,\n",
    "    ingest_stocks_fundamental_balance_sheet,\n",
    "    ingest_stocks_fundamental_cash_flow,\n",
    "    ingest_stocks_fundamental_earnings_estimates,\n",
    ")\n"
   ]
  },
  {
   "cell_type": "code",
   "execution_count": null,
   "id": "b5a16372797e03e6",
   "metadata": {
    "ExecuteTime": {
     "end_time": "2025-10-25T08:16:12.743290Z",
     "start_time": "2025-10-25T08:16:12.510815Z"
    }
   },
   "outputs": [],
   "source": [
    "companies = [\"IBM\", \"GOOG\", \"META\", \"ASML\", \"NVDA\", \"MSFT\", \"AAPL\"]\n",
    "\n",
    "for company in companies:\n",
    "    stocks_eod_response = ingest_stocks_eod(company)\n",
    "    print(f\"Ingestion complete stocks EOD for {company}, errors: {stocks_eod_response.json().get('errors')}\")"
   ]
  },
  {
   "cell_type": "code",
   "execution_count": null,
   "id": "fe01c2bb90d0f5c7",
   "metadata": {
    "ExecuteTime": {
     "end_time": "2025-10-25T08:16:13.720051Z",
     "start_time": "2025-10-25T08:16:12.756718Z"
    }
   },
   "outputs": [],
   "source": [
    "stocks_insider_trades_response = ingest_stocks_insider_trades(\"IBM\")\n",
    "print(f\"Stocks insider trades ingestion complete with errors: {stocks_insider_trades_response.json().get('errors')}\")"
   ]
  },
  {
   "cell_type": "code",
   "execution_count": null,
   "id": "65848796b2c40c40",
   "metadata": {
    "ExecuteTime": {
     "end_time": "2025-10-25T08:16:13.928945Z",
     "start_time": "2025-10-25T08:16:13.766303Z"
    }
   },
   "outputs": [],
   "source": [
    "stocks_metadata_response = ingest_stocks_metadata(\"IBM\")\n",
    "print(f\"Stocks metadata ingestion complete with errors: {stocks_metadata_response.json().get('errors')}\")"
   ]
  },
  {
   "cell_type": "code",
   "execution_count": null,
   "id": "402feca31acdd0ea",
   "metadata": {
    "ExecuteTime": {
     "end_time": "2025-10-25T08:16:14.400981Z",
     "start_time": "2025-10-25T08:16:13.941690Z"
    }
   },
   "outputs": [],
   "source": [
    "stocks_fundamental_income_statement_response = ingest_stocks_fundamental_income_statement(\"IBM\")\n",
    "print(f\"Stocks fundamental income statement ingestion complete with errors: {stocks_fundamental_income_statement_response.json().get('errors')}\")"
   ]
  },
  {
   "cell_type": "code",
   "execution_count": null,
   "id": "7aad6d939f751c90",
   "metadata": {
    "ExecuteTime": {
     "end_time": "2025-10-25T08:16:14.691055Z",
     "start_time": "2025-10-25T08:16:14.408014Z"
    }
   },
   "outputs": [],
   "source": [
    "stocks_fundamental_balance_sheet_response = ingest_stocks_fundamental_balance_sheet(\"IBM\")\n",
    "print(f\"Stocks fundamental balance sheet ingestion complete with errors: {stocks_fundamental_balance_sheet_response.json().get('errors')}\")"
   ]
  },
  {
   "cell_type": "code",
   "execution_count": null,
   "id": "972e58ef309081f1",
   "metadata": {
    "ExecuteTime": {
     "end_time": "2025-10-25T08:16:15.150761Z",
     "start_time": "2025-10-25T08:16:14.709107Z"
    }
   },
   "outputs": [],
   "source": [
    "stocks_fundamental_cash_flow_response = ingest_stocks_fundamental_cash_flow(\"IBM\")\n",
    "print(f\"Stocks fundamental cash flow ingestion complete with errors: {stocks_fundamental_cash_flow_response.json().get('errors')}\")"
   ]
  },
  {
   "cell_type": "code",
   "execution_count": null,
   "id": "88151c59b95be938",
   "metadata": {
    "ExecuteTime": {
     "end_time": "2025-10-25T08:16:15.485868Z",
     "start_time": "2025-10-25T08:16:15.168691Z"
    }
   },
   "outputs": [],
   "source": [
    "stocks_fundamental_earnings_estimates_response = ingest_stocks_fundamental_earnings_estimates(\"IBM\")\n",
    "print(f\"Stocks fundamental estimated earnings ingestion complete with errors: {stocks_fundamental_earnings_estimates_response.json().get('errors')}\")"
   ]
  },
  {
   "cell_type": "code",
   "execution_count": null,
   "id": "ec33a7c564c2f05",
   "metadata": {
    "ExecuteTime": {
     "end_time": "2025-10-25T08:16:15.491707Z",
     "start_time": "2025-10-25T08:16:15.490443Z"
    }
   },
   "outputs": [],
   "source": []
  }
 ],
 "metadata": {
  "kernelspec": {
   "display_name": "Python 3 (ipykernel)",
   "language": "python",
   "name": "python3"
  },
  "language_info": {
   "codemirror_mode": {
    "name": "ipython",
    "version": 3
   },
   "file_extension": ".py",
   "mimetype": "text/x-python",
   "name": "python",
   "nbconvert_exporter": "python",
   "pygments_lexer": "ipython3",
   "version": "3.12.12"
  }
 },
 "nbformat": 4,
 "nbformat_minor": 5
}
