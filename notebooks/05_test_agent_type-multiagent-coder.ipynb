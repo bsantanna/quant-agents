{
 "cells": [
  {
   "cell_type": "markdown",
   "id": "5574425a3bb18652",
   "metadata": {},
   "source": [
    "### Agent-Lab: Multi-Agent -> Coder\n",
    "\n",
    "Objective of this notebook is evaluating and adapting a [Multi-Agent Supervisor Architecture](https://langchain-ai.github.io/langgraph/concepts/multi_agent/#supervisor) with coordinator and execution planning steps.\n",
    "\n",
    "---\n"
   ]
  },
  {
   "cell_type": "code",
   "execution_count": 1,
   "id": "initial_id",
   "metadata": {
    "ExecuteTime": {
     "end_time": "2025-08-31T18:30:42.094477Z",
     "start_time": "2025-08-31T18:30:40.605018Z"
    }
   },
   "outputs": [],
   "source": [
    "%%capture\n",
    "import json\n",
    "import os\n",
    "import nest_asyncio\n",
    "from IPython.display import Markdown, display\n",
    "from dotenv import load_dotenv\n",
    "from notebooks import experiment_utils\n",
    "from app.core.container import Container\n",
    "from app.interface.api.messages.schema import MessageRequest\n",
    "\n",
    "os.chdir(\"..\")\n",
    "load_dotenv()\n",
    "nest_asyncio.apply()\n",
    "\n",
    "# start dependency injection container\n",
    "container = Container()\n",
    "container.init_resources()\n",
    "container.wire(modules=[__name__])\n",
    "\n",
    "# get checkpointer instance\n",
    "graph_persistence_factory = container.graph_persistence_factory()\n",
    "checkpointer = graph_persistence_factory.build_checkpoint_saver()"
   ]
  },
  {
   "cell_type": "markdown",
   "id": "20bb66e9d89c4d1e",
   "metadata": {},
   "source": [
    "---\n",
    "### XAI Grok Coder"
   ]
  },
  {
   "cell_type": "code",
   "execution_count": 2,
   "id": "dd10e6da0221f543",
   "metadata": {
    "ExecuteTime": {
     "end_time": "2025-08-31T18:30:42.193562Z",
     "start_time": "2025-08-31T18:30:42.097318Z"
    }
   },
   "outputs": [],
   "source": [
    "# Create Workflow\n",
    "xai_agent = experiment_utils.create_xai_agent(\n",
    "    agent_type=\"coordinator_planner_supervisor\", llm_tag=\"grok-code-fast\", api_key=os.getenv(\"XAI_API_KEY\")\n",
    ")\n",
    "xai_coder_agent = container.coordinator_planner_supervisor_agent()\n",
    "xai_workflow_builder = xai_coder_agent.get_workflow_builder(xai_agent[\"id\"])\n",
    "xai_workflow = xai_workflow_builder.compile(checkpointer=checkpointer)"
   ]
  },
  {
   "cell_type": "code",
   "execution_count": 3,
   "id": "d5d7333c4abbf0c8",
   "metadata": {
    "ExecuteTime": {
     "end_time": "2025-08-31T18:31:13.951165Z",
     "start_time": "2025-08-31T18:30:42.196538Z"
    }
   },
   "outputs": [],
   "source": [
    "%%capture\n",
    "\n",
    "message = MessageRequest(\n",
    "    message_role=\"human\",\n",
    "    message_content=\"With coder, generate a simple hello world with FastAPI in Python. No need to setup libraries, just generate the code as a text report that makes use of markdown formatting for reading. Make sure to include code examples in the final report.\",\n",
    "    agent_id=xai_agent[\"id\"],\n",
    ")\n",
    "\n",
    "inputs = xai_coder_agent.get_input_params(message, schema=\"public\")\n",
    "config = xai_coder_agent.get_config(xai_agent[\"id\"])\n",
    "result = xai_workflow.invoke(inputs, config)\n",
    "ai_message_content, workflow_state = xai_coder_agent.format_response(result)"
   ]
  },
  {
   "cell_type": "code",
   "execution_count": 4,
   "id": "ed1e7d39ce4ad4f",
   "metadata": {
    "ExecuteTime": {
     "end_time": "2025-08-31T18:31:14.006175Z",
     "start_time": "2025-08-31T18:31:14.002687Z"
    }
   },
   "outputs": [
    {
     "data": {
      "text/markdown": [
       "**Execution Plan:**\n",
       "```json\n",
       "{\n",
       "  \"thought\": \"The user wants a simple Hello World example using FastAPI in Python, generated as a text report with markdown formatting, including code examples, without needing to set up libraries.\",\n",
       "  \"title\": \"Generate a Simple Hello World FastAPI Example in Python\",\n",
       "  \"steps\": [\n",
       "    {\n",
       "      \"agent_name\": \"coder\",\n",
       "      \"title\": \"Generate FastAPI Hello World Code\",\n",
       "      \"description\": \"Use coder to create a simple Hello World application code using FastAPI. Output the code in a markdown-formatted report, including code examples and explanations.\"\n",
       "    },\n",
       "    {\n",
       "      \"agent_name\": \"reporter\",\n",
       "      \"title\": \"Compile Final Report\",\n",
       "      \"description\": \"Use reporter to compile the generated code into a professional final report, ensuring markdown formatting and inclusion of code examples.\"\n",
       "    }\n",
       "  ]\n",
       "}\n",
       "```"
      ],
      "text/plain": [
       "<IPython.core.display.Markdown object>"
      ]
     },
     "metadata": {},
     "output_type": "display_data"
    }
   ],
   "source": [
    "display(\n",
    "    Markdown(\n",
    "        f\"**Execution Plan:**\\n```json\\n{json.dumps(workflow_state.get(\"execution_plan\"), indent=2)}\\n```\"\n",
    "    )\n",
    ")"
   ]
  },
  {
   "cell_type": "code",
   "execution_count": 5,
   "id": "82fe44358ec990dc",
   "metadata": {
    "ExecuteTime": {
     "end_time": "2025-08-31T18:31:14.014240Z",
     "start_time": "2025-08-31T18:31:14.010871Z"
    }
   },
   "outputs": [
    {
     "data": {
      "text/markdown": [
       "**AI Message Content:**\n",
       "\n",
       "# Simple Hello World Example with FastAPI in Python\n",
       "\n",
       "## Overview\n",
       "This report provides a simple \"Hello World\" example using FastAPI, a modern, fast web framework for building APIs with Python. The example demonstrates how to create a basic FastAPI application that responds to HTTP requests with a \"Hello, World!\" message. No library setup is required, as FastAPI is assumed to be installed (e.g., via `pip install fastapi uvicorn` in a real environment).\n",
       "\n",
       "## Requirements\n",
       "- Python 3.7+\n",
       "- FastAPI library\n",
       "- Uvicorn (for running the server)\n",
       "\n",
       "## Implementation Steps\n",
       "1. **Install Dependencies** (if needed in a real setup): Run `pip install fastapi uvicorn`.\n",
       "2. **Create the Application**: Write a Python script with FastAPI to define routes.\n",
       "3. **Run the Server**: Use Uvicorn to start the development server.\n",
       "4. **Test the Endpoint**: Access the API endpoint in a browser or via tools like curl.\n",
       "\n",
       "## Code Example\n",
       "Below is the complete Python code for the Hello World application. Save this as `main.py` and run it with `uvicorn main:app --reload` to start the server on `http://127.0.0.1:8000`.\n",
       "\n",
       "```python\n",
       "from fastapi import FastAPI\n",
       "\n",
       "# Create a FastAPI instance\n",
       "app = FastAPI()\n",
       "\n",
       "# Define a simple route that returns \"Hello, World!\"\n",
       "@app.get(\"/\")\n",
       "async def read_root():\n",
       "    return {\"message\": \"Hello, World!\"}\n",
       "```\n",
       "\n",
       "### Explanation of the Code\n",
       "- `from fastapi import FastAPI`: Imports the FastAPI class.\n",
       "- `app = FastAPI()`: Initializes the FastAPI application.\n",
       "- `@app.get(\"/\")`: Decorator that defines a GET endpoint at the root URL (\"/\").\n",
       "- `async def read_root()`: Asynchronous function that handles the request and returns a JSON response with the message.\n",
       "\n",
       "## Running and Testing\n",
       "1. Save the code to a file named `main.py`.\n",
       "2. In your terminal, run: `uvicorn main:app --reload`\n",
       "3. Open a browser and navigate to `http://127.0.0.1:8000` to see the JSON response: `{\"message\": \"Hello, World!\"}`.\n",
       "4. Alternatively, use curl: `curl http://127.0.0.1:8000` to get the same output.\n",
       "\n",
       "## Additional Notes\n",
       "- This is a minimal example. FastAPI supports more advanced features like request validation, dependency injection, and automatic API documentation (available at `http://127.0.0.1:8000/docs` when running).\n",
       "- For production, consider using a proper ASGI server like Uvicorn or Gunicorn.\n",
       "- Error handling and more routes can be added as needed.\n",
       "\n",
       "This example is efficient, follows best practices for FastAPI, and handles the basic requirement of a Hello World response. If you need expansions (e.g., adding more endpoints), let me know!"
      ],
      "text/plain": [
       "<IPython.core.display.Markdown object>"
      ]
     },
     "metadata": {},
     "output_type": "display_data"
    }
   ],
   "source": [
    "display(Markdown(f\"**AI Message Content:**\\n\\n{ai_message_content}\"))"
   ]
  },
  {
   "cell_type": "markdown",
   "id": "2e69a13ddec02d61",
   "metadata": {},
   "source": [
    "---\n",
    "### Anthropic Coder"
   ]
  },
  {
   "cell_type": "code",
   "execution_count": 6,
   "id": "effb2a4a66f79ddd",
   "metadata": {},
   "outputs": [],
   "source": [
    "# Create Workflow\n",
    "anthropic_agent = experiment_utils.create_anthropic_agent(\n",
    "    agent_type=\"coordinator_planner_supervisor\", llm_tag=\"claude-3-5-haiku-latest\", api_key=os.getenv(\"ANTHROPIC_API_KEY\")\n",
    ")\n",
    "anthropic_coder_agent = container.coordinator_planner_supervisor_agent()\n",
    "anthropic_workflow_builder = anthropic_coder_agent.get_workflow_builder(anthropic_agent[\"id\"])\n",
    "anthropic_workflow = anthropic_workflow_builder.compile(checkpointer=checkpointer)"
   ]
  },
  {
   "cell_type": "code",
   "execution_count": 7,
   "id": "863e96a21b963e53",
   "metadata": {},
   "outputs": [],
   "source": [
    "%%capture\n",
    "\n",
    "message = MessageRequest(\n",
    "    message_role=\"human\",\n",
    "    message_content=\"With coder, generate a simple hello world with FastAPI in Python. No need to setup libraries, just generate the code as a text report that makes use of markdown formatting for reading. Make sure to include code examples in the final report.\",\n",
    "    agent_id=anthropic_agent[\"id\"],\n",
    ")\n",
    "\n",
    "inputs = anthropic_coder_agent.get_input_params(message, schema=\"public\")\n",
    "config = anthropic_coder_agent.get_config(anthropic_agent[\"id\"])\n",
    "result = anthropic_workflow.invoke(inputs, config)\n",
    "ai_message_content, workflow_state = anthropic_coder_agent.format_response(result)"
   ]
  },
  {
   "cell_type": "code",
   "execution_count": 8,
   "id": "d79eb6031ba16b4",
   "metadata": {},
   "outputs": [
    {
     "data": {
      "text/markdown": [
       "**Execution Plan:**\n",
       "```json\n",
       "{\n",
       "  \"thought\": \"I'll use the coder agent to generate a simple FastAPI Hello World application and create a markdown-formatted code report.\",\n",
       "  \"title\": \"Generate FastAPI Hello World Python Code\",\n",
       "  \"steps\": [\n",
       "    {\n",
       "      \"agent_name\": \"coder\",\n",
       "      \"title\": \"Create FastAPI Hello World Code\",\n",
       "      \"description\": \"Write a simple FastAPI application that returns a hello world message. The code will demonstrate basic FastAPI routing and response handling.\"\n",
       "    },\n",
       "    {\n",
       "      \"agent_name\": \"reporter\",\n",
       "      \"title\": \"Generate Markdown Report\",\n",
       "      \"description\": \"Create a professional report with the generated FastAPI code, including explanations and code blocks.\"\n",
       "    }\n",
       "  ]\n",
       "}\n",
       "```"
      ],
      "text/plain": [
       "<IPython.core.display.Markdown object>"
      ]
     },
     "metadata": {},
     "output_type": "display_data"
    }
   ],
   "source": [
    "display(\n",
    "    Markdown(\n",
    "        f\"**Execution Plan:**\\n```json\\n{json.dumps(workflow_state.get(\"execution_plan\"), indent=2)}\\n```\"\n",
    "    )\n",
    ")"
   ]
  },
  {
   "cell_type": "code",
   "execution_count": 9,
   "id": "c74e31e3a141ce8f",
   "metadata": {},
   "outputs": [
    {
     "data": {
      "text/markdown": [
       "**AI Message Content:**\n",
       "\n",
       "\n",
       "\n",
       "📄 **FastAPI Hello World: A Concise Guide**\n",
       "\n",
       "## Overview\n",
       "This guide demonstrates a simple FastAPI application that returns a \"Hello, World!\" message, showcasing the basic structure and routing capabilities of FastAPI.\n",
       "\n",
       "### Prerequisites\n",
       "- Python 3.7+\n",
       "- FastAPI\n",
       "- Uvicorn (ASGI server)\n",
       "\n",
       "### Code Example\n",
       "\n",
       "```python\n",
       "from fastapi import FastAPI\n",
       "\n",
       "# Create a FastAPI application instance\n",
       "app = FastAPI()\n",
       "\n",
       "# Define a root endpoint that returns a hello world message\n",
       "@app.get(\"/\")\n",
       "async def read_root():\n",
       "    \"\"\"\n",
       "    Root endpoint that returns a hello world JSON response.\n",
       "    \n",
       "    Returns:\n",
       "        dict: A greeting message\n",
       "    \"\"\"\n",
       "    return {\"message\": \"Hello, World!\"}\n",
       "\n",
       "# Optional: Additional endpoint demonstrating parameter handling\n",
       "@app.get(\"/hello/{name}\")\n",
       "async def hello_name(name: str):\n",
       "    \"\"\"\n",
       "    Personalized greeting endpoint.\n",
       "    \n",
       "    Args:\n",
       "        name (str): Name to include in the greeting\n",
       "    \n",
       "    Returns:\n",
       "        dict: A personalized greeting message\n",
       "    \"\"\"\n",
       "    return {\"message\": f\"Hello, {name}!\"}\n",
       "```\n",
       "\n",
       "## How to Run\n",
       "To run this FastAPI application, you would typically use Uvicorn:\n",
       "```bash\n",
       "uvicorn main:app --reload\n",
       "```\n",
       "\n",
       "## Key Components\n",
       "- `FastAPI()`: Creates the main application instance\n",
       "- `@app.get()`: Decorator to define route handlers\n",
       "- `async def`: Defines asynchronous route handler functions\n",
       "- Returns JSON responses by default\n",
       "\n",
       "## Features Demonstrated\n",
       "✅ Basic routing\n",
       "✅ Async endpoint handlers\n",
       "✅ Simple JSON responses\n",
       "✅ Path parameter handling\n",
       "\n",
       "## Recommendations\n",
       "- For production, use proper ASGI servers like Uvicorn or Hypercorn\n",
       "- Add error handling and input validation as needed\n",
       "- Consider using type hints for better code quality\n",
       "\n",
       "By following this example, you can quickly set up a basic FastAPI application with routing and response handling. The code provides a clean, modern approach to building web APIs in Python."
      ],
      "text/plain": [
       "<IPython.core.display.Markdown object>"
      ]
     },
     "metadata": {},
     "output_type": "display_data"
    }
   ],
   "source": [
    "display(Markdown(f\"**AI Message Content:**\\n\\n{ai_message_content}\"))"
   ]
  },
  {
   "cell_type": "markdown",
   "id": "e894715db6e9c66d",
   "metadata": {},
   "source": [
    "---\n",
    "### OpenAI Coder"
   ]
  },
  {
   "cell_type": "code",
   "execution_count": 10,
   "id": "7f0dd3c8f93728e3",
   "metadata": {},
   "outputs": [],
   "source": [
    "# Create Workflow\n",
    "openai_agent = experiment_utils.create_openai_agent(\n",
    "    agent_type=\"coordinator_planner_supervisor\", llm_tag=\"gpt-5-nano\", api_key=os.getenv(\"OPENAI_API_KEY\")\n",
    ")\n",
    "openai_coder_agent = container.coordinator_planner_supervisor_agent()\n",
    "openai_workflow_builder = openai_coder_agent.get_workflow_builder(openai_agent[\"id\"])\n",
    "openai_workflow = openai_workflow_builder.compile(checkpointer=checkpointer)"
   ]
  },
  {
   "cell_type": "code",
   "execution_count": 11,
   "id": "e0b234faa3d4627",
   "metadata": {},
   "outputs": [],
   "source": [
    "%%capture\n",
    "\n",
    "message = MessageRequest(\n",
    "    message_role=\"human\",\n",
    "    message_content=\"With coder, generate a simple hello world with FastAPI in Python. No need to setup libraries, just generate the code as a text report that makes use of markdown formatting for reading.\",\n",
    "    agent_id=openai_agent[\"id\"],\n",
    ")\n",
    "\n",
    "inputs = openai_coder_agent.get_input_params(message, schema=\"public\")\n",
    "config = openai_coder_agent.get_config(openai_agent[\"id\"])\n",
    "result = openai_workflow.invoke(inputs, config)\n",
    "ai_message_content, workflow_state = openai_coder_agent.format_response(result)"
   ]
  },
  {
   "cell_type": "code",
   "execution_count": 12,
   "id": "c49885bf44868bef",
   "metadata": {},
   "outputs": [
    {
     "data": {
      "text/markdown": [
       "**Execution Plan:**\n",
       "```json\n",
       "{\n",
       "  \"thought\": \"You're asking for a simple Python FastAPI 'Hello World' example. I'll provide a minimal FastAPI app as a Markdown-formatted code block. No library installation steps, only the code and a tiny run instruction.\",\n",
       "  \"title\": \"Generate a minimal FastAPI Hello World app in Python (Markdown-formatted code report)\",\n",
       "  \"steps\": [\n",
       "    {\n",
       "      \"agent_name\": \"coder\",\n",
       "      \"title\": \"Create minimal FastAPI Hello World app code\",\n",
       "      \"description\": \"Produce a concise Python script that implements a FastAPI app with a root endpoint returning a Hello, World! message. Output should be a Markdown-formatted code block. Include a standard guard to run the app with uvicorn when executed as the main module.\"\n",
       "    },\n",
       "    {\n",
       "      \"agent_name\": \"reporter\",\n",
       "      \"title\": \"Present final report in Markdown\",\n",
       "      \"description\": \"Provide a polished Markdown report that includes a brief title, a short description, and the code block from Step 1. Include a short instruction line on how to run the app (e.g., 'uvicorn main:app --reload').\"\n",
       "    }\n",
       "  ]\n",
       "}\n",
       "```"
      ],
      "text/plain": [
       "<IPython.core.display.Markdown object>"
      ]
     },
     "metadata": {},
     "output_type": "display_data"
    }
   ],
   "source": [
    "display(\n",
    "    Markdown(\n",
    "        f\"**Execution Plan:**\\n```json\\n{json.dumps(workflow_state.get(\"execution_plan\"), indent=2)}\\n```\"\n",
    "    )\n",
    ")"
   ]
  },
  {
   "cell_type": "code",
   "execution_count": 13,
   "id": "c7a1affb5ab8448",
   "metadata": {},
   "outputs": [
    {
     "data": {
      "text/markdown": [
       "**AI Message Content:**\n",
       "\n",
       "Executive Summary\n",
       "- This report provides a minimal FastAPI Python application that serves a single endpoint at the root (/) and returns a JSON message \"Hello, World!\". The code is presented as a Markdown-formatted block, suitable for quick reading and integration into demonstrations or tutorials.\n",
       "\n",
       "Key Findings\n",
       "- Endpoint: The application defines a single GET endpoint at the root path (\"/\").\n",
       "- Response: The endpoint returns a JSON object with the key \"message\" and value \"Hello, World!\".\n",
       "- Execution: The application is designed to run with uvicorn using a standard Python module entry point (if __name__ == \"__main__\").\n",
       "- Dependencies (implied): FastAPI and uvicorn are used to run the application. No installation steps are included in the report, per request.\n",
       "\n",
       "Detailed Analysis\n",
       "- Code Structure:\n",
       "  - The script creates a FastAPI instance named app.\n",
       "  - A single asynchronous function read_root is decorated with @app.get(\"/\") to handle GET requests at the root path.\n",
       "  - The function returns a Python dict which FastAPI serializes to JSON as {\"message\": \"Hello, World!\"}.\n",
       "  - The if __name__ == \"__main__\" block imports uvicorn and runs the app, exposing it on host 0.0.0.0 and port 8000.\n",
       "- Behavior:\n",
       "  - Accessing the root URL via HTTP GET yields the JSON response {\"message\": \"Hello, World!\"}.\n",
       "  - The app is suitable for quick demonstrations or as a template for expanding to additional routes.\n",
       "\n",
       "Code\n",
       "```python\n",
       "# main.py\n",
       "from fastapi import FastAPI\n",
       "\n",
       "app = FastAPI()\n",
       "\n",
       "@app.get(\"/\")\n",
       "async def read_root():\n",
       "    return {\"message\": \"Hello, World!\"}\n",
       "\n",
       "if __name__ == \"__main__\":\n",
       "    import uvicorn\n",
       "    uvicorn.run(app, host=\"0.0.0.0\", port=8000)\n",
       "```\n",
       "\n",
       "Run Instructions\n",
       "- Command to run: uvicorn main:app --reload --port 8000\n",
       "- Access: http://localhost:8000/ (or http://0.0.0.0:8000/ when running on a server)\n",
       "\n",
       "Conclusions and Recommendations\n",
       "- This is a compact, functional Hello World example using FastAPI suitable for initial demonstrations or scaffolding for further development.\n",
       "- If expanding functionality, consider adding more endpoints, input validation, and error handling, and documenting with FastAPI’s interactive docs (auto-generated).\n",
       "- For production deployments, assess security, logging, and deployment configuration beyond this minimal example."
      ],
      "text/plain": [
       "<IPython.core.display.Markdown object>"
      ]
     },
     "metadata": {},
     "output_type": "display_data"
    }
   ],
   "source": [
    "display(Markdown(f\"**AI Message Content:**\\n\\n{ai_message_content}\"))"
   ]
  },
  {
   "cell_type": "code",
   "execution_count": null,
   "id": "6c256dd795e8da55",
   "metadata": {},
   "outputs": [],
   "source": []
  }
 ],
 "metadata": {
  "kernelspec": {
   "display_name": "Python 3 (ipykernel)",
   "language": "python",
   "name": "python3"
  },
  "language_info": {
   "codemirror_mode": {
    "name": "ipython",
    "version": 3
   },
   "file_extension": ".py",
   "mimetype": "text/x-python",
   "name": "python",
   "nbconvert_exporter": "python",
   "pygments_lexer": "ipython3",
   "version": "3.12.11"
  }
 },
 "nbformat": 4,
 "nbformat_minor": 5
}
